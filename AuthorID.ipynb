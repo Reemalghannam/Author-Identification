{
 "cells": [
  {
   "cell_type": "code",
   "execution_count": 1,
   "metadata": {},
   "outputs": [],
   "source": [
    "# Import neccesory libraries\n",
    "\n",
    "import pandas as pd\n",
    "from urllib.parse import urlencode\n",
    "import os\n",
    "import string\n",
    "import re\n",
    "import numpy as np \n",
    "\n",
    "import nltk\n",
    "\n",
    "from nltk.corpus import stopwords\n",
    "stop = stopwords.words('english')\n",
    "\n",
    "# nltk.download('punkt')\n",
    "# nltk.download('wordnet')\n",
    "# nltk.download('stopwords')\n",
    "\n",
    "#nltk.PorterStemmer()\n",
    "\n",
    "\n",
    "#stemming\n",
    "from nltk.stem import PorterStemmer\n",
    "stemmer =PorterStemmer()\n",
    "\n",
    "#lemmatizing\n",
    "from nltk.stem import WordNetLemmatizer\n",
    "lemmatizer = WordNetLemmatizer()\n",
    "\n",
    "# Visualization libraries\n",
    "import seaborn as sns \n",
    "sns.set_style('whitegrid')\n",
    "import matplotlib.pyplot as plt"
   ]
  },
  {
   "cell_type": "code",
   "execution_count": 2,
   "metadata": {},
   "outputs": [
    {
     "data": {
      "text/plain": [
       "'!\"#$%&\\'()*+,-./:;<=>?@[\\\\]^_`{|}~'"
      ]
     },
     "execution_count": 2,
     "metadata": {},
     "output_type": "execute_result"
    }
   ],
   "source": [
    "string.punctuation"
   ]
  },
  {
   "cell_type": "code",
   "execution_count": 3,
   "metadata": {},
   "outputs": [],
   "source": [
    "# Reading data\n",
    "\n",
    "train=pd.read_csv('C:\\\\Users\\\\moomi\\\\OneDrive\\\\سطح المكتب\\\\Level#8\\\\NLP\\\\project\\\\phase1\\\\Project\\\\train.csv')\n",
    "test=pd.read_csv('C:\\\\Users\\\\moomi\\\\OneDrive\\\\سطح المكتب\\\\Level#8\\\\NLP\\\\project\\\\phase1\\\\Project\\\\test.csv')"
   ]
  },
  {
   "cell_type": "code",
   "execution_count": 4,
   "metadata": {},
   "outputs": [
    {
     "data": {
      "text/html": [
       "<div>\n",
       "<style scoped>\n",
       "    .dataframe tbody tr th:only-of-type {\n",
       "        vertical-align: middle;\n",
       "    }\n",
       "\n",
       "    .dataframe tbody tr th {\n",
       "        vertical-align: top;\n",
       "    }\n",
       "\n",
       "    .dataframe thead th {\n",
       "        text-align: right;\n",
       "    }\n",
       "</style>\n",
       "<table border=\"1\" class=\"dataframe\">\n",
       "  <thead>\n",
       "    <tr style=\"text-align: right;\">\n",
       "      <th></th>\n",
       "      <th>Unnamed: 0</th>\n",
       "      <th>AuthorName</th>\n",
       "      <th>Text</th>\n",
       "    </tr>\n",
       "  </thead>\n",
       "  <tbody>\n",
       "    <tr>\n",
       "      <td>0</td>\n",
       "      <td>0</td>\n",
       "      <td>AaronPressman</td>\n",
       "      <td>A break-in at the U.S. Justice Department's Wo...</td>\n",
       "    </tr>\n",
       "    <tr>\n",
       "      <td>1</td>\n",
       "      <td>1</td>\n",
       "      <td>AaronPressman</td>\n",
       "      <td>Supreme Court justices Wednesday sharply quest...</td>\n",
       "    </tr>\n",
       "    <tr>\n",
       "      <td>2</td>\n",
       "      <td>2</td>\n",
       "      <td>AaronPressman</td>\n",
       "      <td>The Internet continued to grow in leaps and bo...</td>\n",
       "    </tr>\n",
       "    <tr>\n",
       "      <td>3</td>\n",
       "      <td>3</td>\n",
       "      <td>AaronPressman</td>\n",
       "      <td>Hewlett-Packard Co. unveiled a new plan Monday...</td>\n",
       "    </tr>\n",
       "    <tr>\n",
       "      <td>4</td>\n",
       "      <td>4</td>\n",
       "      <td>AaronPressman</td>\n",
       "      <td>The Internet continued to grow in leaps and bo...</td>\n",
       "    </tr>\n",
       "  </tbody>\n",
       "</table>\n",
       "</div>"
      ],
      "text/plain": [
       "   Unnamed: 0     AuthorName  \\\n",
       "0           0  AaronPressman   \n",
       "1           1  AaronPressman   \n",
       "2           2  AaronPressman   \n",
       "3           3  AaronPressman   \n",
       "4           4  AaronPressman   \n",
       "\n",
       "                                                Text  \n",
       "0  A break-in at the U.S. Justice Department's Wo...  \n",
       "1  Supreme Court justices Wednesday sharply quest...  \n",
       "2  The Internet continued to grow in leaps and bo...  \n",
       "3  Hewlett-Packard Co. unveiled a new plan Monday...  \n",
       "4  The Internet continued to grow in leaps and bo...  "
      ]
     },
     "execution_count": 4,
     "metadata": {},
     "output_type": "execute_result"
    }
   ],
   "source": [
    "train.head()"
   ]
  },
  {
   "cell_type": "code",
   "execution_count": 5,
   "metadata": {},
   "outputs": [
    {
     "data": {
      "text/html": [
       "<div>\n",
       "<style scoped>\n",
       "    .dataframe tbody tr th:only-of-type {\n",
       "        vertical-align: middle;\n",
       "    }\n",
       "\n",
       "    .dataframe tbody tr th {\n",
       "        vertical-align: top;\n",
       "    }\n",
       "\n",
       "    .dataframe thead th {\n",
       "        text-align: right;\n",
       "    }\n",
       "</style>\n",
       "<table border=\"1\" class=\"dataframe\">\n",
       "  <thead>\n",
       "    <tr style=\"text-align: right;\">\n",
       "      <th></th>\n",
       "      <th>Unnamed: 0</th>\n",
       "      <th>AuthorName</th>\n",
       "      <th>Text</th>\n",
       "    </tr>\n",
       "  </thead>\n",
       "  <tbody>\n",
       "    <tr>\n",
       "      <td>0</td>\n",
       "      <td>0</td>\n",
       "      <td>AaronPressman</td>\n",
       "      <td>Commuters stuck in traffic on the Leesburg Pik...</td>\n",
       "    </tr>\n",
       "    <tr>\n",
       "      <td>1</td>\n",
       "      <td>1</td>\n",
       "      <td>AaronPressman</td>\n",
       "      <td>Congress revives the debate over encryption ex...</td>\n",
       "    </tr>\n",
       "    <tr>\n",
       "      <td>2</td>\n",
       "      <td>2</td>\n",
       "      <td>AaronPressman</td>\n",
       "      <td>Federal bank regulators have begun prodding U....</td>\n",
       "    </tr>\n",
       "    <tr>\n",
       "      <td>3</td>\n",
       "      <td>3</td>\n",
       "      <td>AaronPressman</td>\n",
       "      <td>Privacy advocates warned Wednesday that the Cl...</td>\n",
       "    </tr>\n",
       "    <tr>\n",
       "      <td>4</td>\n",
       "      <td>4</td>\n",
       "      <td>AaronPressman</td>\n",
       "      <td>The number of banks charging non-customers for...</td>\n",
       "    </tr>\n",
       "  </tbody>\n",
       "</table>\n",
       "</div>"
      ],
      "text/plain": [
       "   Unnamed: 0     AuthorName  \\\n",
       "0           0  AaronPressman   \n",
       "1           1  AaronPressman   \n",
       "2           2  AaronPressman   \n",
       "3           3  AaronPressman   \n",
       "4           4  AaronPressman   \n",
       "\n",
       "                                                Text  \n",
       "0  Commuters stuck in traffic on the Leesburg Pik...  \n",
       "1  Congress revives the debate over encryption ex...  \n",
       "2  Federal bank regulators have begun prodding U....  \n",
       "3  Privacy advocates warned Wednesday that the Cl...  \n",
       "4  The number of banks charging non-customers for...  "
      ]
     },
     "execution_count": 5,
     "metadata": {},
     "output_type": "execute_result"
    }
   ],
   "source": [
    "test.head()"
   ]
  },
  {
   "cell_type": "code",
   "execution_count": 6,
   "metadata": {},
   "outputs": [],
   "source": [
    "train.drop(['Unnamed: 0'], axis= 1, inplace= True)\n",
    "test.drop(['Unnamed: 0'], axis= 1, inplace= True)"
   ]
  },
  {
   "cell_type": "markdown",
   "metadata": {},
   "source": [
    "## Fixing Authors Name in both train and test dataset"
   ]
  },
  {
   "cell_type": "code",
   "execution_count": 7,
   "metadata": {},
   "outputs": [],
   "source": [
    "author_list = list(train['AuthorName'].unique())\n",
    "train['AuthorName']= train['AuthorName'].apply(lambda x: re.sub(r\"(\\w)([A-Z])\", r\"\\1 \\2\", x))\n",
    "test['AuthorName']= test['AuthorName'].apply(lambda x: re.sub(r\"(\\w)([A-Z])\", r\"\\1 \\2\", x))"
   ]
  },
  {
   "cell_type": "code",
   "execution_count": 8,
   "metadata": {},
   "outputs": [
    {
     "data": {
      "text/html": [
       "<div>\n",
       "<style scoped>\n",
       "    .dataframe tbody tr th:only-of-type {\n",
       "        vertical-align: middle;\n",
       "    }\n",
       "\n",
       "    .dataframe tbody tr th {\n",
       "        vertical-align: top;\n",
       "    }\n",
       "\n",
       "    .dataframe thead th {\n",
       "        text-align: right;\n",
       "    }\n",
       "</style>\n",
       "<table border=\"1\" class=\"dataframe\">\n",
       "  <thead>\n",
       "    <tr style=\"text-align: right;\">\n",
       "      <th></th>\n",
       "      <th>AuthorName</th>\n",
       "      <th>Text</th>\n",
       "    </tr>\n",
       "  </thead>\n",
       "  <tbody>\n",
       "    <tr>\n",
       "      <td>0</td>\n",
       "      <td>Aaron Pressman</td>\n",
       "      <td>A break-in at the U.S. Justice Department's Wo...</td>\n",
       "    </tr>\n",
       "    <tr>\n",
       "      <td>1</td>\n",
       "      <td>Aaron Pressman</td>\n",
       "      <td>Supreme Court justices Wednesday sharply quest...</td>\n",
       "    </tr>\n",
       "    <tr>\n",
       "      <td>2</td>\n",
       "      <td>Aaron Pressman</td>\n",
       "      <td>The Internet continued to grow in leaps and bo...</td>\n",
       "    </tr>\n",
       "    <tr>\n",
       "      <td>3</td>\n",
       "      <td>Aaron Pressman</td>\n",
       "      <td>Hewlett-Packard Co. unveiled a new plan Monday...</td>\n",
       "    </tr>\n",
       "    <tr>\n",
       "      <td>4</td>\n",
       "      <td>Aaron Pressman</td>\n",
       "      <td>The Internet continued to grow in leaps and bo...</td>\n",
       "    </tr>\n",
       "  </tbody>\n",
       "</table>\n",
       "</div>"
      ],
      "text/plain": [
       "       AuthorName                                               Text\n",
       "0  Aaron Pressman  A break-in at the U.S. Justice Department's Wo...\n",
       "1  Aaron Pressman  Supreme Court justices Wednesday sharply quest...\n",
       "2  Aaron Pressman  The Internet continued to grow in leaps and bo...\n",
       "3  Aaron Pressman  Hewlett-Packard Co. unveiled a new plan Monday...\n",
       "4  Aaron Pressman  The Internet continued to grow in leaps and bo..."
      ]
     },
     "execution_count": 8,
     "metadata": {},
     "output_type": "execute_result"
    }
   ],
   "source": [
    "train.head()"
   ]
  },
  {
   "cell_type": "markdown",
   "metadata": {},
   "source": [
    "## EXPLORING OUR DATA BEFORE CLEANING"
   ]
  },
  {
   "cell_type": "code",
   "execution_count": 9,
   "metadata": {},
   "outputs": [
    {
     "name": "stderr",
     "output_type": "stream",
     "text": [
      "C:\\Users\\moomi\\Anaconda3\\lib\\site-packages\\seaborn\\_decorators.py:43: FutureWarning: Pass the following variables as keyword args: x, y. From version 0.12, the only valid positional argument will be `data`, and passing other arguments without an explicit keyword will result in an error or misinterpretation.\n",
      "  FutureWarning\n"
     ]
    },
    {
     "data": {
      "text/plain": [
       "<matplotlib.axes._subplots.AxesSubplot at 0x2d2c2acd408>"
      ]
     },
     "execution_count": 9,
     "metadata": {},
     "output_type": "execute_result"
    },
    {
     "data": {
      "image/png": "[encoded data removed]",
      "text/plain": [
       "<Figure size 576x360 with 1 Axes>"
      ]
     },
     "metadata": {
      "needs_background": "light"
     },
     "output_type": "display_data"
    }
   ],
   "source": [
    "# Distribution on Train and Test Set\n",
    "\n",
    "plt.figure(figsize=(8,5))\n",
    "plt.title(\"Train and Test Data Distribution\")\n",
    "labels = ['Train','Test']\n",
    "y = [len(train['AuthorName']), len(train['AuthorName'])]\n",
    "\n",
    "sns.barplot(labels, y,palette=\"Set2\")\n",
    "\n",
    "\n"
   ]
  },
  {
   "cell_type": "code",
   "execution_count": 10,
   "metadata": {},
   "outputs": [
    {
     "name": "stderr",
     "output_type": "stream",
     "text": [
      "C:\\Users\\moomi\\Anaconda3\\lib\\site-packages\\seaborn\\_decorators.py:43: FutureWarning: Pass the following variable as a keyword arg: x. From version 0.12, the only valid positional argument will be `data`, and passing other arguments without an explicit keyword will result in an error or misinterpretation.\n",
      "  FutureWarning\n"
     ]
    },
    {
     "data": {
      "text/plain": [
       "<matplotlib.axes._subplots.AxesSubplot at 0x2d2c31d7e08>"
      ]
     },
     "execution_count": 10,
     "metadata": {},
     "output_type": "execute_result"
    },
    {
     "data": {
      "image/png": "[encoded data removed]",
      "text/plain": [
       "<Figure size 1440x864 with 1 Axes>"
      ]
     },
     "metadata": {
      "needs_background": "light"
     },
     "output_type": "display_data"
    }
   ],
   "source": [
    "# Checking the class distribution of Train dataset\n",
    "\n",
    "plt.figure(figsize=(20,12))\n",
    "plt.title(\"Train Dataset Classes Distribution\")\n",
    "plt.xticks(rotation=90)\n",
    "sns.countplot(train['AuthorName'])\n"
   ]
  },
  {
   "cell_type": "code",
   "execution_count": 11,
   "metadata": {},
   "outputs": [
    {
     "name": "stdout",
     "output_type": "stream",
     "text": [
      "50\n"
     ]
    }
   ],
   "source": [
    "print(len(train['AuthorName'].value_counts()))"
   ]
  },
  {
   "cell_type": "code",
   "execution_count": 12,
   "metadata": {},
   "outputs": [
    {
     "name": "stderr",
     "output_type": "stream",
     "text": [
      "C:\\Users\\moomi\\Anaconda3\\lib\\site-packages\\seaborn\\_decorators.py:43: FutureWarning: Pass the following variable as a keyword arg: x. From version 0.12, the only valid positional argument will be `data`, and passing other arguments without an explicit keyword will result in an error or misinterpretation.\n",
      "  FutureWarning\n"
     ]
    },
    {
     "data": {
      "text/plain": [
       "<matplotlib.axes._subplots.AxesSubplot at 0x2d2c3832548>"
      ]
     },
     "execution_count": 12,
     "metadata": {},
     "output_type": "execute_result"
    },
    {
     "data": {
      "image/png": "[encoded data removed]",
      "text/plain": [
       "<Figure size 1440x864 with 1 Axes>"
      ]
     },
     "metadata": {
      "needs_background": "light"
     },
     "output_type": "display_data"
    }
   ],
   "source": [
    "# Checking the class distribution of Test dataset\n",
    "\n",
    "plt.figure(figsize=(20,12))\n",
    "plt.title(\"Test Dataset Classes Distribution\")\n",
    "plt.xticks(rotation=90)\n",
    "sns.countplot(test['AuthorName'])"
   ]
  },
  {
   "cell_type": "code",
   "execution_count": 13,
   "metadata": {},
   "outputs": [
    {
     "name": "stdout",
     "output_type": "stream",
     "text": [
      "50\n"
     ]
    }
   ],
   "source": [
    "print(len(test['AuthorName'].value_counts()))"
   ]
  },
  {
   "cell_type": "code",
   "execution_count": 14,
   "metadata": {},
   "outputs": [
    {
     "data": {
      "text/plain": [
       "<matplotlib.axes._subplots.AxesSubplot at 0x2d2c3438f08>"
      ]
     },
     "execution_count": 14,
     "metadata": {},
     "output_type": "execute_result"
    },
    {
     "data": {
      "image/png": "[encoded data removed]",
      "text/plain": [
       "<Figure size 432x288 with 1 Axes>"
      ]
     },
     "metadata": {
      "needs_background": "light"
     },
     "output_type": "display_data"
    }
   ],
   "source": [
    "# Histogram to check the size of the raw text\n",
    "\n",
    "plt.title('Raw Text Length ')\n",
    "sns.histplot(train['Text'].apply(lambda x: len(x.split())), bins=30)"
   ]
  },
  {
   "cell_type": "code",
   "execution_count": 15,
   "metadata": {},
   "outputs": [],
   "source": [
    "def clean_text(text):\n",
    "    # Removing \"\\n\" and \"\\\" from the text\n",
    "    text= text.replace('\\n', \"\").replace('\\'', \"\")\n",
    "    \n",
    "    # Removing stop words\n",
    "    text = \" \".join([item for item in text.split() if item not in stop])\n",
    "\n",
    "    # Removing URLS from the text \n",
    "    text=re.sub(r'http\\S+ ', '', text, flags=re.MULTILINE)\n",
    "    # Removing puntuation from the text\n",
    "    text = \"\".join([item for item in text if item not in string.punctuation])\n",
    "    # After removing the URLS we are left with \"(\", that can be easily replaced\n",
    "    text.replace(\"(\",\"\")\n",
    "    \n",
    "    return text\n",
    "\n",
    "# Tokenize\n",
    "wn = nltk.WordNetLemmatizer()\n",
    "def lemmatizer(text):\n",
    "    text = [wn.lemmatize(word) for word in text.split()]\n",
    "    text = ' '.join(text)\n",
    "    return text\n",
    "\n",
    "#Stemmer\n",
    "ps = nltk.PorterStemmer()\n",
    "def stemming(text):\n",
    "    text = [ps.stem(word) for word in text.split()]\n",
    "    text = ' '.join(text)\n",
    "    return text"
   ]
  },
  {
   "cell_type": "code",
   "execution_count": 16,
   "metadata": {},
   "outputs": [],
   "source": [
    "# Apply cleaning on data\n",
    "\n",
    "train['Clean']= train['Text'].apply(lambda x: clean_text(x))\n",
    "test['Clean']= test['Text'].apply(lambda x:clean_text(x))"
   ]
  },
  {
   "cell_type": "markdown",
   "metadata": {},
   "source": [
    "## Feature Engineering \n"
   ]
  },
  {
   "cell_type": "code",
   "execution_count": 17,
   "metadata": {},
   "outputs": [],
   "source": [
    "# Calculating the length of Raw text\n",
    "train['Raw Length']=train['Text'].apply(lambda x: len(x.split()))"
   ]
  },
  {
   "cell_type": "code",
   "execution_count": 18,
   "metadata": {},
   "outputs": [],
   "source": [
    "# Calcuating number of punctuations\n",
    "train['Punctuation_count']=train['Text'].apply(lambda x: len([item for item in x if item in string.punctuation]))"
   ]
  },
  {
   "cell_type": "code",
   "execution_count": 19,
   "metadata": {},
   "outputs": [],
   "source": [
    "# Getting Sentence Length\n",
    "train['Sentence_length'] = train['Clean'].apply(lambda x: len(str(x).split(\".\"or \"!\" or \"?\")))"
   ]
  },
  {
   "cell_type": "code",
   "execution_count": 20,
   "metadata": {},
   "outputs": [],
   "source": [
    "# Getting Number of digits\n",
    "train['Digit_Length'] = train['Clean'].apply(lambda x: len(re.findall(r\"\\d+\",x)))"
   ]
  },
  {
   "cell_type": "code",
   "execution_count": 21,
   "metadata": {},
   "outputs": [],
   "source": [
    "# Getting Lengh of Clean text\n",
    "train['Clean Length']=train['Clean'].apply(lambda x: len(x.split()))"
   ]
  },
  {
   "cell_type": "code",
   "execution_count": 22,
   "metadata": {},
   "outputs": [],
   "source": [
    "# Average Word Length\n",
    "train['Average_Clean_Word_Length']=sum(train['Clean Length'])/len(train['Clean Length'])"
   ]
  },
  {
   "cell_type": "code",
   "execution_count": 23,
   "metadata": {},
   "outputs": [],
   "source": [
    "# Average Sentence Length\n",
    "train['Average_Sentence_Length']=sum(train['Sentence_length'])/len(train['Sentence_length'])"
   ]
  },
  {
   "cell_type": "code",
   "execution_count": 24,
   "metadata": {},
   "outputs": [],
   "source": [
    "# Stemming\n",
    "train['Clean_stem']=train['Clean'].apply(lambda x: stemming(x))"
   ]
  },
  {
   "cell_type": "code",
   "execution_count": 25,
   "metadata": {},
   "outputs": [],
   "source": [
    "# Lemmatizing\n",
    "train['Clean_lem']=train['Clean'].apply(lambda x: lemmatizer(x))"
   ]
  },
  {
   "cell_type": "code",
   "execution_count": 26,
   "metadata": {},
   "outputs": [
    {
     "data": {
      "text/html": [
       "<div>\n",
       "<style scoped>\n",
       "    .dataframe tbody tr th:only-of-type {\n",
       "        vertical-align: middle;\n",
       "    }\n",
       "\n",
       "    .dataframe tbody tr th {\n",
       "        vertical-align: top;\n",
       "    }\n",
       "\n",
       "    .dataframe thead th {\n",
       "        text-align: right;\n",
       "    }\n",
       "</style>\n",
       "<table border=\"1\" class=\"dataframe\">\n",
       "  <thead>\n",
       "    <tr style=\"text-align: right;\">\n",
       "      <th></th>\n",
       "      <th>AuthorName</th>\n",
       "      <th>Text</th>\n",
       "      <th>Clean</th>\n",
       "      <th>Raw Length</th>\n",
       "      <th>Punctuation_count</th>\n",
       "      <th>Sentence_length</th>\n",
       "      <th>Digit_Length</th>\n",
       "      <th>Clean Length</th>\n",
       "      <th>Average_Clean_Word_Length</th>\n",
       "      <th>Average_Sentence_Length</th>\n",
       "      <th>Clean_stem</th>\n",
       "      <th>Clean_lem</th>\n",
       "    </tr>\n",
       "  </thead>\n",
       "  <tbody>\n",
       "    <tr>\n",
       "      <td>0</td>\n",
       "      <td>Aaron Pressman</td>\n",
       "      <td>A break-in at the U.S. Justice Department's Wo...</td>\n",
       "      <td>A breakin US Justice Departments World Wide We...</td>\n",
       "      <td>408</td>\n",
       "      <td>81</td>\n",
       "      <td>1</td>\n",
       "      <td>2</td>\n",
       "      <td>267</td>\n",
       "      <td>307.8696</td>\n",
       "      <td>1.0</td>\n",
       "      <td>A breakin US justic depart world wide web site...</td>\n",
       "      <td>A breakin US Justice Departments World Wide We...</td>\n",
       "    </tr>\n",
       "    <tr>\n",
       "      <td>1</td>\n",
       "      <td>Aaron Pressman</td>\n",
       "      <td>Supreme Court justices Wednesday sharply quest...</td>\n",
       "      <td>Supreme Court justices Wednesday sharply quest...</td>\n",
       "      <td>505</td>\n",
       "      <td>74</td>\n",
       "      <td>1</td>\n",
       "      <td>9</td>\n",
       "      <td>310</td>\n",
       "      <td>307.8696</td>\n",
       "      <td>1.0</td>\n",
       "      <td>suprem court justic wednesday sharpli question...</td>\n",
       "      <td>Supreme Court justice Wednesday sharply questi...</td>\n",
       "    </tr>\n",
       "    <tr>\n",
       "      <td>2</td>\n",
       "      <td>Aaron Pressman</td>\n",
       "      <td>The Internet continued to grow in leaps and bo...</td>\n",
       "      <td>The Internet continued grow leaps bounds year ...</td>\n",
       "      <td>332</td>\n",
       "      <td>44</td>\n",
       "      <td>1</td>\n",
       "      <td>7</td>\n",
       "      <td>199</td>\n",
       "      <td>307.8696</td>\n",
       "      <td>1.0</td>\n",
       "      <td>the internet continu grow leap bound year onli...</td>\n",
       "      <td>The Internet continued grow leap bound year on...</td>\n",
       "    </tr>\n",
       "    <tr>\n",
       "      <td>3</td>\n",
       "      <td>Aaron Pressman</td>\n",
       "      <td>Hewlett-Packard Co. unveiled a new plan Monday...</td>\n",
       "      <td>HewlettPackard Co unveiled new plan Monday boo...</td>\n",
       "      <td>446</td>\n",
       "      <td>68</td>\n",
       "      <td>1</td>\n",
       "      <td>0</td>\n",
       "      <td>270</td>\n",
       "      <td>307.8696</td>\n",
       "      <td>1.0</td>\n",
       "      <td>hewlettpackard Co unveil new plan monday boost...</td>\n",
       "      <td>HewlettPackard Co unveiled new plan Monday boo...</td>\n",
       "    </tr>\n",
       "    <tr>\n",
       "      <td>4</td>\n",
       "      <td>Aaron Pressman</td>\n",
       "      <td>The Internet continued to grow in leaps and bo...</td>\n",
       "      <td>The Internet continued grow leaps bounds year ...</td>\n",
       "      <td>332</td>\n",
       "      <td>44</td>\n",
       "      <td>1</td>\n",
       "      <td>7</td>\n",
       "      <td>199</td>\n",
       "      <td>307.8696</td>\n",
       "      <td>1.0</td>\n",
       "      <td>the internet continu grow leap bound year onli...</td>\n",
       "      <td>The Internet continued grow leap bound year on...</td>\n",
       "    </tr>\n",
       "  </tbody>\n",
       "</table>\n",
       "</div>"
      ],
      "text/plain": [
       "       AuthorName                                               Text  \\\n",
       "0  Aaron Pressman  A break-in at the U.S. Justice Department's Wo...   \n",
       "1  Aaron Pressman  Supreme Court justices Wednesday sharply quest...   \n",
       "2  Aaron Pressman  The Internet continued to grow in leaps and bo...   \n",
       "3  Aaron Pressman  Hewlett-Packard Co. unveiled a new plan Monday...   \n",
       "4  Aaron Pressman  The Internet continued to grow in leaps and bo...   \n",
       "\n",
       "                                               Clean  Raw Length  \\\n",
       "0  A breakin US Justice Departments World Wide We...         408   \n",
       "1  Supreme Court justices Wednesday sharply quest...         505   \n",
       "2  The Internet continued grow leaps bounds year ...         332   \n",
       "3  HewlettPackard Co unveiled new plan Monday boo...         446   \n",
       "4  The Internet continued grow leaps bounds year ...         332   \n",
       "\n",
       "   Punctuation_count  Sentence_length  Digit_Length  Clean Length  \\\n",
       "0                 81                1             2           267   \n",
       "1                 74                1             9           310   \n",
       "2                 44                1             7           199   \n",
       "3                 68                1             0           270   \n",
       "4                 44                1             7           199   \n",
       "\n",
       "   Average_Clean_Word_Length  Average_Sentence_Length  \\\n",
       "0                   307.8696                      1.0   \n",
       "1                   307.8696                      1.0   \n",
       "2                   307.8696                      1.0   \n",
       "3                   307.8696                      1.0   \n",
       "4                   307.8696                      1.0   \n",
       "\n",
       "                                          Clean_stem  \\\n",
       "0  A breakin US justic depart world wide web site...   \n",
       "1  suprem court justic wednesday sharpli question...   \n",
       "2  the internet continu grow leap bound year onli...   \n",
       "3  hewlettpackard Co unveil new plan monday boost...   \n",
       "4  the internet continu grow leap bound year onli...   \n",
       "\n",
       "                                           Clean_lem  \n",
       "0  A breakin US Justice Departments World Wide We...  \n",
       "1  Supreme Court justice Wednesday sharply questi...  \n",
       "2  The Internet continued grow leap bound year on...  \n",
       "3  HewlettPackard Co unveiled new plan Monday boo...  \n",
       "4  The Internet continued grow leap bound year on...  "
      ]
     },
     "execution_count": 26,
     "metadata": {},
     "output_type": "execute_result"
    }
   ],
   "source": [
    "train.head()"
   ]
  },
  {
   "cell_type": "code",
   "execution_count": 27,
   "metadata": {},
   "outputs": [],
   "source": [
    "# Lemmatizing and stemming on test set\n",
    "test['Clean_lem']=test['Text'].apply(lambda x: lemmatizer(x))\n",
    "test['Clean_stem']=test['Text'].apply(lambda x: stemming(x))"
   ]
  },
  {
   "cell_type": "markdown",
   "metadata": {},
   "source": [
    "## Exploring the Text with Extracted Features\n"
   ]
  },
  {
   "cell_type": "code",
   "execution_count": 28,
   "metadata": {},
   "outputs": [],
   "source": [
    "author = train['AuthorName'].unique()"
   ]
  },
  {
   "cell_type": "code",
   "execution_count": 29,
   "metadata": {},
   "outputs": [],
   "source": [
    "raw_length_mean = []\n",
    "punct_length_mean = []\n",
    "sent_length_mean = []\n",
    "digits_length_mean = []\n",
    "for y in range(len(author)):\n",
    "    x = train[train['AuthorName']==author[y]]\n",
    "    raw_length_mean.append(x['Raw Length'].mean())\n",
    "    punct_length_mean.append(x['Punctuation_count'].mean())\n",
    "    sent_length_mean.append(x['Sentence_length'].mean())\n",
    "    digits_length_mean.append(x['Digit_Length'].mean())"
   ]
  },
  {
   "cell_type": "code",
   "execution_count": 30,
   "metadata": {},
   "outputs": [
    {
     "data": {
      "text/plain": [
       "<matplotlib.axes._subplots.AxesSubplot at 0x2d2c346fa08>"
      ]
     },
     "execution_count": 30,
     "metadata": {},
     "output_type": "execute_result"
    },
    {
     "data": {
      "image/png": "[encoded data removed]",
      "text/plain": [
       "<Figure size 1440x864 with 1 Axes>"
      ]
     },
     "metadata": {
      "needs_background": "light"
     },
     "output_type": "display_data"
    }
   ],
   "source": [
    "# Raw Text Length of Authors\n",
    "\n",
    "plt.figure(figsize=(20,12))\n",
    "plt.title(\"Raw Text Length of Authors\")\n",
    "plt.xticks(rotation=90)\n",
    "plt.xlabel('Authors')\n",
    "plt.ylabel('Count')\n",
    "sns.barplot(x=author, y=raw_length_mean)"
   ]
  },
  {
   "cell_type": "code",
   "execution_count": 32,
   "metadata": {},
   "outputs": [
    {
     "data": {
      "text/plain": [
       "<matplotlib.axes._subplots.AxesSubplot at 0x2d2cc951348>"
      ]
     },
     "execution_count": 32,
     "metadata": {},
     "output_type": "execute_result"
    },
    {
     "data": {
      "image/png": "[encoded data removed]",
      "text/plain": [
       "<Figure size 1440x864 with 1 Axes>"
      ]
     },
     "metadata": {
      "needs_background": "light"
     },
     "output_type": "display_data"
    }
   ],
   "source": [
    "# Punctuation length of the authors\n",
    "\n",
    "plt.figure(figsize=(20,12))\n",
    "plt.title(\"Punctuation Length of Authors\")\n",
    "plt.xticks(rotation=90)\n",
    "plt.xlabel('Authors')\n",
    "plt.ylabel('Count')\n",
    "sns.barplot(x=author, y=punct_length_mean)"
   ]
  },
  {
   "cell_type": "code",
   "execution_count": 33,
   "metadata": {},
   "outputs": [
    {
     "data": {
      "text/plain": [
       "<matplotlib.axes._subplots.AxesSubplot at 0x2d2ccb1f9c8>"
      ]
     },
     "execution_count": 33,
     "metadata": {},
     "output_type": "execute_result"
    },
    {
     "data": {
      "image/png": "[encoded data removed]",
      "text/plain": [
       "<Figure size 1440x864 with 1 Axes>"
      ]
     },
     "metadata": {
      "needs_background": "light"
     },
     "output_type": "display_data"
    }
   ],
   "source": [
    "# Sentence Length of Authors\n",
    "\n",
    "plt.figure(figsize=(20,12))\n",
    "plt.title(\"Raw Sentence Length of Authors\")\n",
    "plt.xticks(rotation=90)\n",
    "plt.xlabel('Authors')\n",
    "plt.ylabel('Count')\n",
    "sns.barplot(x=author, y=sent_length_mean)"
   ]
  },
  {
   "cell_type": "code",
   "execution_count": 34,
   "metadata": {},
   "outputs": [
    {
     "data": {
      "text/plain": [
       "<matplotlib.axes._subplots.AxesSubplot at 0x2d2ccb27d08>"
      ]
     },
     "execution_count": 34,
     "metadata": {},
     "output_type": "execute_result"
    },
    {
     "data": {
      "image/png": "[encoded data removed]",
      "text/plain": [
       "<Figure size 1440x864 with 1 Axes>"
      ]
     },
     "metadata": {
      "needs_background": "light"
     },
     "output_type": "display_data"
    }
   ],
   "source": [
    "# Digit Length of Authors\n",
    "\n",
    "plt.figure(figsize=(20,12))\n",
    "plt.title(\"Average Digit Length of Authors\")\n",
    "plt.xticks(rotation=90)\n",
    "plt.xlabel('Authors')\n",
    "plt.ylabel('Count')\n",
    "sns.barplot(x=author, y=digits_length_mean)"
   ]
  },
  {
   "cell_type": "code",
   "execution_count": 35,
   "metadata": {},
   "outputs": [
    {
     "data": {
      "text/plain": [
       "<matplotlib.axes._subplots.AxesSubplot at 0x2d2cdd805c8>"
      ]
     },
     "execution_count": 35,
     "metadata": {},
     "output_type": "execute_result"
    },
    {
     "data": {
      "image/png": "[encoded data removed]",
      "text/plain": [
       "<Figure size 432x288 with 1 Axes>"
      ]
     },
     "metadata": {
      "needs_background": "light"
     },
     "output_type": "display_data"
    }
   ],
   "source": [
    "# Histogram to check the size of the cleaned text \n",
    "\n",
    "plt.title(\"Clean Text Length\")\n",
    "sns.histplot(train['Clean'].apply(lambda x: len(x.split())), bins=30)"
   ]
  },
  {
   "cell_type": "code",
   "execution_count": 36,
   "metadata": {},
   "outputs": [],
   "source": [
    "# Saving files as csv\n",
    "train.to_csv('FINAL_TRAIN.csv')\n",
    "test.to_csv('FINAL_TEST.csv')"
   ]
  },
  {
   "cell_type": "markdown",
   "metadata": {},
   "source": [
    "## Feature Extraction TFIDF\n"
   ]
  },
  {
   "cell_type": "code",
   "execution_count": 37,
   "metadata": {},
   "outputs": [],
   "source": [
    "# Cnvert class labels to Numerical Representation\n",
    "\n",
    "from sklearn.preprocessing import LabelEncoder\n",
    "le = LabelEncoder()\n",
    "\n",
    "train['Classes']= le.fit_transform(train['AuthorName'])\n",
    "test['Classes']= le.fit_transform(test['AuthorName'])"
   ]
  },
  {
   "cell_type": "code",
   "execution_count": 38,
   "metadata": {},
   "outputs": [
    {
     "data": {
      "text/html": [
       "<div>\n",
       "<style scoped>\n",
       "    .dataframe tbody tr th:only-of-type {\n",
       "        vertical-align: middle;\n",
       "    }\n",
       "\n",
       "    .dataframe tbody tr th {\n",
       "        vertical-align: top;\n",
       "    }\n",
       "\n",
       "    .dataframe thead th {\n",
       "        text-align: right;\n",
       "    }\n",
       "</style>\n",
       "<table border=\"1\" class=\"dataframe\">\n",
       "  <thead>\n",
       "    <tr style=\"text-align: right;\">\n",
       "      <th></th>\n",
       "      <th>AuthorName</th>\n",
       "      <th>Text</th>\n",
       "      <th>Clean</th>\n",
       "      <th>Raw Length</th>\n",
       "      <th>Punctuation_count</th>\n",
       "      <th>Sentence_length</th>\n",
       "      <th>Digit_Length</th>\n",
       "      <th>Clean Length</th>\n",
       "      <th>Average_Clean_Word_Length</th>\n",
       "      <th>Average_Sentence_Length</th>\n",
       "      <th>Clean_stem</th>\n",
       "      <th>Clean_lem</th>\n",
       "      <th>Classes</th>\n",
       "    </tr>\n",
       "  </thead>\n",
       "  <tbody>\n",
       "    <tr>\n",
       "      <td>0</td>\n",
       "      <td>Aaron Pressman</td>\n",
       "      <td>A break-in at the U.S. Justice Department's Wo...</td>\n",
       "      <td>A breakin US Justice Departments World Wide We...</td>\n",
       "      <td>408</td>\n",
       "      <td>81</td>\n",
       "      <td>1</td>\n",
       "      <td>2</td>\n",
       "      <td>267</td>\n",
       "      <td>307.8696</td>\n",
       "      <td>1.0</td>\n",
       "      <td>A breakin US justic depart world wide web site...</td>\n",
       "      <td>A breakin US Justice Departments World Wide We...</td>\n",
       "      <td>0</td>\n",
       "    </tr>\n",
       "    <tr>\n",
       "      <td>1</td>\n",
       "      <td>Aaron Pressman</td>\n",
       "      <td>Supreme Court justices Wednesday sharply quest...</td>\n",
       "      <td>Supreme Court justices Wednesday sharply quest...</td>\n",
       "      <td>505</td>\n",
       "      <td>74</td>\n",
       "      <td>1</td>\n",
       "      <td>9</td>\n",
       "      <td>310</td>\n",
       "      <td>307.8696</td>\n",
       "      <td>1.0</td>\n",
       "      <td>suprem court justic wednesday sharpli question...</td>\n",
       "      <td>Supreme Court justice Wednesday sharply questi...</td>\n",
       "      <td>0</td>\n",
       "    </tr>\n",
       "    <tr>\n",
       "      <td>2</td>\n",
       "      <td>Aaron Pressman</td>\n",
       "      <td>The Internet continued to grow in leaps and bo...</td>\n",
       "      <td>The Internet continued grow leaps bounds year ...</td>\n",
       "      <td>332</td>\n",
       "      <td>44</td>\n",
       "      <td>1</td>\n",
       "      <td>7</td>\n",
       "      <td>199</td>\n",
       "      <td>307.8696</td>\n",
       "      <td>1.0</td>\n",
       "      <td>the internet continu grow leap bound year onli...</td>\n",
       "      <td>The Internet continued grow leap bound year on...</td>\n",
       "      <td>0</td>\n",
       "    </tr>\n",
       "    <tr>\n",
       "      <td>3</td>\n",
       "      <td>Aaron Pressman</td>\n",
       "      <td>Hewlett-Packard Co. unveiled a new plan Monday...</td>\n",
       "      <td>HewlettPackard Co unveiled new plan Monday boo...</td>\n",
       "      <td>446</td>\n",
       "      <td>68</td>\n",
       "      <td>1</td>\n",
       "      <td>0</td>\n",
       "      <td>270</td>\n",
       "      <td>307.8696</td>\n",
       "      <td>1.0</td>\n",
       "      <td>hewlettpackard Co unveil new plan monday boost...</td>\n",
       "      <td>HewlettPackard Co unveiled new plan Monday boo...</td>\n",
       "      <td>0</td>\n",
       "    </tr>\n",
       "    <tr>\n",
       "      <td>4</td>\n",
       "      <td>Aaron Pressman</td>\n",
       "      <td>The Internet continued to grow in leaps and bo...</td>\n",
       "      <td>The Internet continued grow leaps bounds year ...</td>\n",
       "      <td>332</td>\n",
       "      <td>44</td>\n",
       "      <td>1</td>\n",
       "      <td>7</td>\n",
       "      <td>199</td>\n",
       "      <td>307.8696</td>\n",
       "      <td>1.0</td>\n",
       "      <td>the internet continu grow leap bound year onli...</td>\n",
       "      <td>The Internet continued grow leap bound year on...</td>\n",
       "      <td>0</td>\n",
       "    </tr>\n",
       "  </tbody>\n",
       "</table>\n",
       "</div>"
      ],
      "text/plain": [
       "       AuthorName                                               Text  \\\n",
       "0  Aaron Pressman  A break-in at the U.S. Justice Department's Wo...   \n",
       "1  Aaron Pressman  Supreme Court justices Wednesday sharply quest...   \n",
       "2  Aaron Pressman  The Internet continued to grow in leaps and bo...   \n",
       "3  Aaron Pressman  Hewlett-Packard Co. unveiled a new plan Monday...   \n",
       "4  Aaron Pressman  The Internet continued to grow in leaps and bo...   \n",
       "\n",
       "                                               Clean  Raw Length  \\\n",
       "0  A breakin US Justice Departments World Wide We...         408   \n",
       "1  Supreme Court justices Wednesday sharply quest...         505   \n",
       "2  The Internet continued grow leaps bounds year ...         332   \n",
       "3  HewlettPackard Co unveiled new plan Monday boo...         446   \n",
       "4  The Internet continued grow leaps bounds year ...         332   \n",
       "\n",
       "   Punctuation_count  Sentence_length  Digit_Length  Clean Length  \\\n",
       "0                 81                1             2           267   \n",
       "1                 74                1             9           310   \n",
       "2                 44                1             7           199   \n",
       "3                 68                1             0           270   \n",
       "4                 44                1             7           199   \n",
       "\n",
       "   Average_Clean_Word_Length  Average_Sentence_Length  \\\n",
       "0                   307.8696                      1.0   \n",
       "1                   307.8696                      1.0   \n",
       "2                   307.8696                      1.0   \n",
       "3                   307.8696                      1.0   \n",
       "4                   307.8696                      1.0   \n",
       "\n",
       "                                          Clean_stem  \\\n",
       "0  A breakin US justic depart world wide web site...   \n",
       "1  suprem court justic wednesday sharpli question...   \n",
       "2  the internet continu grow leap bound year onli...   \n",
       "3  hewlettpackard Co unveil new plan monday boost...   \n",
       "4  the internet continu grow leap bound year onli...   \n",
       "\n",
       "                                           Clean_lem  Classes  \n",
       "0  A breakin US Justice Departments World Wide We...        0  \n",
       "1  Supreme Court justice Wednesday sharply questi...        0  \n",
       "2  The Internet continued grow leap bound year on...        0  \n",
       "3  HewlettPackard Co unveiled new plan Monday boo...        0  \n",
       "4  The Internet continued grow leap bound year on...        0  "
      ]
     },
     "execution_count": 38,
     "metadata": {},
     "output_type": "execute_result"
    }
   ],
   "source": [
    "train.head()"
   ]
  },
  {
   "cell_type": "code",
   "execution_count": 39,
   "metadata": {},
   "outputs": [],
   "source": [
    "# Feature Extraction USING TFIDF\n",
    "from sklearn.feature_extraction.text import TfidfVectorizer\n",
    "\n",
    "tfidf = TfidfVectorizer(min_df=5)\n",
    "X_train = tfidf.fit_transform(train['Clean'])\n",
    "X_test = tfidf.transform(test['Text'])"
   ]
  },
  {
   "cell_type": "code",
   "execution_count": 40,
   "metadata": {},
   "outputs": [
    {
     "name": "stdout",
     "output_type": "stream",
     "text": [
      "Shape of Train set:(2500, 11738)\n",
      "Shape of Test set: (2500, 11738)\n"
     ]
    }
   ],
   "source": [
    "print(f'''Shape of Train set:{X_train.shape}\n",
    "Shape of Test set: {X_test.shape}''')"
   ]
  },
  {
   "cell_type": "markdown",
   "metadata": {},
   "source": [
    "## Applying ML ON TFIDF"
   ]
  },
  {
   "cell_type": "code",
   "execution_count": 41,
   "metadata": {},
   "outputs": [],
   "source": [
    "# Naive Bayes\n",
    "from sklearn.naive_bayes import MultinomialNB\n",
    "nb = MultinomialNB()\n",
    "nb.fit(X_train, train['Classes'])\n",
    "pred_NB = nb.predict(X_test)"
   ]
  },
  {
   "cell_type": "code",
   "execution_count": 42,
   "metadata": {},
   "outputs": [
    {
     "name": "stdout",
     "output_type": "stream",
     "text": [
      "                    precision    recall  f1-score   support\n",
      "\n",
      "    Aaron Pressman       0.81      0.94      0.87        50\n",
      "       Alan Crosby       1.00      0.52      0.68        50\n",
      "   Alexander Smith       0.34      0.56      0.42        50\n",
      " Benjamin Kang Lim       0.26      0.32      0.29        50\n",
      "    Bernard Hickey       0.64      0.68      0.66        50\n",
      "     Brad Dorfman        0.75      0.72      0.73        50\n",
      " Darren Schuettler       0.63      0.24      0.35        50\n",
      "      David Lawder       0.31      0.22      0.26        50\n",
      "    Edna Fernandes       0.92      0.46      0.61        50\n",
      "      Eric Auchard       0.45      0.36      0.40        50\n",
      "   Fumiko Fujisaki       0.93      1.00      0.96        50\n",
      "   Graham Earnshaw       0.56      0.94      0.70        50\n",
      " Heather Scoffield       0.31      0.44      0.37        50\n",
      "    Jane Macartney       0.52      0.68      0.59        50\n",
      "       Jan Lopatka       0.15      0.10      0.12        50\n",
      "     Jim Gilchrist       0.91      1.00      0.95        50\n",
      "         Joe Ortiz       0.88      0.86      0.87        50\n",
      "     John Mastrini       0.56      0.60      0.58        50\n",
      "     Jonathan Birt       0.53      0.50      0.52        50\n",
      "   Jo Winterbottom       0.69      0.80      0.74        50\n",
      "      Karl Penhaul       0.79      0.96      0.86        50\n",
      "        Keith Weir       0.78      0.80      0.79        50\n",
      "   Kevin Drawbaugh       0.36      0.70      0.47        50\n",
      "    Kevin Morrison       0.70      0.46      0.55        50\n",
      "    Kirstin Ridley       0.79      0.54      0.64        50\n",
      "Kourosh Karimkhany       0.73      0.74      0.73        50\n",
      "        Lydia Zajc       0.94      0.64      0.76        50\n",
      "   Lynne O'Donnell       0.85      0.80      0.82        50\n",
      "  Lynnley Browning       0.82      0.92      0.87        50\n",
      "  Marcel Michelson       0.58      0.72      0.64        50\n",
      "     Mark Bendeich       0.74      0.58      0.65        50\n",
      "       Martin Wolk       0.83      0.48      0.61        50\n",
      "     Matthew Bunce       0.94      0.88      0.91        50\n",
      "    Michael Connor       0.91      0.82      0.86        50\n",
      "       Mure Dickie       0.21      0.14      0.17        50\n",
      "        Nick Louth       0.72      0.98      0.83        50\n",
      "  Patricia Commins       0.76      0.58      0.66        50\n",
      "    Peter Humphrey       0.33      0.90      0.48        50\n",
      "       Pierre Tran       0.59      0.46      0.52        50\n",
      "       Robin Sidel       1.00      0.66      0.80        50\n",
      "     Roger Fillion       0.85      0.82      0.84        50\n",
      "      Samuel Perry       0.72      0.56      0.63        50\n",
      "     Sarah Davison       0.56      0.38      0.45        50\n",
      "      Scott Hillis       0.50      0.02      0.04        50\n",
      "      Simon Cowell       0.74      0.52      0.61        50\n",
      "        Tan Ee Lyn       0.15      0.08      0.10        50\n",
      "   Therese Poletti       0.55      0.90      0.68        50\n",
      "       Tim Farrand       0.53      0.88      0.66        50\n",
      "       Todd Nissen       0.28      0.32      0.30        50\n",
      "     William Kazer       0.28      0.22      0.24        50\n",
      "\n",
      "          accuracy                           0.61      2500\n",
      "         macro avg       0.63      0.61      0.60      2500\n",
      "      weighted avg       0.63      0.61      0.60      2500\n",
      "\n"
     ]
    }
   ],
   "source": [
    "from sklearn.metrics import classification_report\n",
    "labels = list(train['AuthorName'].unique())\n",
    "print(classification_report(test['Classes'],pred_NB, target_names=labels))"
   ]
  },
  {
   "cell_type": "code",
   "execution_count": 43,
   "metadata": {},
   "outputs": [
    {
     "name": "stderr",
     "output_type": "stream",
     "text": [
      "C:\\Users\\moomi\\Anaconda3\\lib\\site-packages\\sklearn\\svm\\base.py:193: FutureWarning: The default value of gamma will change from 'auto' to 'scale' in version 0.22 to account better for unscaled features. Set gamma explicitly to 'auto' or 'scale' to avoid this warning.\n",
      "  \"avoid this warning.\", FutureWarning)\n"
     ]
    }
   ],
   "source": [
    "# SVM\n",
    "from sklearn.svm import SVC\n",
    "svm = SVC()\n",
    "svm.fit(X_train, train['Classes'])\n",
    "pred_SVM = svm.predict(X_test)"
   ]
  },
  {
   "cell_type": "code",
   "execution_count": 44,
   "metadata": {},
   "outputs": [
    {
     "name": "stdout",
     "output_type": "stream",
     "text": [
      "                    precision    recall  f1-score   support\n",
      "\n",
      "    Aaron Pressman       0.69      0.76      0.72        50\n",
      "       Alan Crosby       1.00      0.20      0.33        50\n",
      "   Alexander Smith       0.05      0.36      0.08        50\n",
      " Benjamin Kang Lim       0.89      0.16      0.27        50\n",
      "    Bernard Hickey       0.70      0.14      0.23        50\n",
      "     Brad Dorfman        0.83      0.60      0.70        50\n",
      " Darren Schuettler       0.50      0.10      0.17        50\n",
      "      David Lawder       1.00      0.04      0.08        50\n",
      "    Edna Fernandes       0.32      0.58      0.41        50\n",
      "      Eric Auchard       0.33      0.38      0.35        50\n",
      "   Fumiko Fujisaki       1.00      0.24      0.39        50\n",
      "   Graham Earnshaw       0.86      0.38      0.53        50\n",
      " Heather Scoffield       0.89      0.16      0.27        50\n",
      "    Jane Macartney       0.46      0.82      0.59        50\n",
      "       Jan Lopatka       0.25      0.04      0.07        50\n",
      "     Jim Gilchrist       0.97      0.74      0.84        50\n",
      "         Joe Ortiz       0.88      0.30      0.45        50\n",
      "     John Mastrini       0.24      0.84      0.38        50\n",
      "     Jonathan Birt       0.49      0.34      0.40        50\n",
      "   Jo Winterbottom       1.00      0.42      0.59        50\n",
      "      Karl Penhaul       0.96      1.00      0.98        50\n",
      "        Keith Weir       0.74      0.50      0.60        50\n",
      "   Kevin Drawbaugh       0.11      0.86      0.19        50\n",
      "    Kevin Morrison       0.49      0.72      0.59        50\n",
      "    Kirstin Ridley       0.89      0.16      0.27        50\n",
      "Kourosh Karimkhany       0.95      0.42      0.58        50\n",
      "        Lydia Zajc       1.00      0.56      0.72        50\n",
      "   Lynne O'Donnell       0.92      0.70      0.80        50\n",
      "  Lynnley Browning       0.91      0.40      0.56        50\n",
      "  Marcel Michelson       0.46      0.36      0.40        50\n",
      "     Mark Bendeich       0.83      0.20      0.32        50\n",
      "       Martin Wolk       0.94      0.30      0.45        50\n",
      "     Matthew Bunce       1.00      0.62      0.77        50\n",
      "    Michael Connor       0.88      0.72      0.79        50\n",
      "       Mure Dickie       0.26      0.18      0.21        50\n",
      "        Nick Louth       0.50      0.04      0.07        50\n",
      "  Patricia Commins       1.00      0.06      0.11        50\n",
      "    Peter Humphrey       0.67      0.16      0.26        50\n",
      "       Pierre Tran       0.60      0.12      0.20        50\n",
      "       Robin Sidel       1.00      0.38      0.55        50\n",
      "     Roger Fillion       1.00      0.38      0.55        50\n",
      "      Samuel Perry       0.52      0.44      0.48        50\n",
      "     Sarah Davison       0.69      0.18      0.29        50\n",
      "      Scott Hillis       0.18      0.62      0.28        50\n",
      "      Simon Cowell       0.27      0.06      0.10        50\n",
      "        Tan Ee Lyn       0.33      0.60      0.43        50\n",
      "   Therese Poletti       0.92      0.24      0.38        50\n",
      "       Tim Farrand       0.75      0.30      0.43        50\n",
      "       Todd Nissen       0.49      0.54      0.51        50\n",
      "     William Kazer       0.23      0.24      0.23        50\n",
      "\n",
      "          accuracy                           0.39      2500\n",
      "         macro avg       0.68      0.39      0.42      2500\n",
      "      weighted avg       0.68      0.39      0.42      2500\n",
      "\n"
     ]
    }
   ],
   "source": [
    "labels = list(train['AuthorName'].unique())\n",
    "print(classification_report(test['Classes'],pred_SVM, target_names=labels))"
   ]
  },
  {
   "cell_type": "code",
   "execution_count": 45,
   "metadata": {},
   "outputs": [
    {
     "name": "stderr",
     "output_type": "stream",
     "text": [
      "C:\\Users\\moomi\\Anaconda3\\lib\\site-packages\\sklearn\\ensemble\\forest.py:245: FutureWarning: The default value of n_estimators will change from 10 in version 0.20 to 100 in 0.22.\n",
      "  \"10 in version 0.20 to 100 in 0.22.\", FutureWarning)\n"
     ]
    },
    {
     "name": "stdout",
     "output_type": "stream",
     "text": [
      "                    precision    recall  f1-score   support\n",
      "\n",
      "    Aaron Pressman       0.23      0.84      0.37        50\n",
      "       Alan Crosby       0.45      0.38      0.41        50\n",
      "   Alexander Smith       0.14      0.40      0.21        50\n",
      " Benjamin Kang Lim       0.13      0.16      0.14        50\n",
      "    Bernard Hickey       0.59      0.20      0.30        50\n",
      "     Brad Dorfman        0.26      0.52      0.34        50\n",
      " Darren Schuettler       0.21      0.14      0.17        50\n",
      "      David Lawder       0.31      0.16      0.21        50\n",
      "    Edna Fernandes       0.21      0.12      0.15        50\n",
      "      Eric Auchard       0.25      0.20      0.22        50\n",
      "   Fumiko Fujisaki       0.83      0.88      0.85        50\n",
      "   Graham Earnshaw       0.38      0.70      0.49        50\n",
      " Heather Scoffield       0.29      0.34      0.31        50\n",
      "    Jane Macartney       0.46      0.32      0.38        50\n",
      "       Jan Lopatka       0.12      0.12      0.12        50\n",
      "     Jim Gilchrist       0.93      0.86      0.90        50\n",
      "         Joe Ortiz       0.33      0.24      0.28        50\n",
      "     John Mastrini       0.39      0.40      0.40        50\n",
      "     Jonathan Birt       0.34      0.54      0.42        50\n",
      "   Jo Winterbottom       0.22      0.32      0.26        50\n",
      "      Karl Penhaul       0.91      0.86      0.89        50\n",
      "        Keith Weir       0.36      0.32      0.34        50\n",
      "   Kevin Drawbaugh       0.17      0.12      0.14        50\n",
      "    Kevin Morrison       0.57      0.46      0.51        50\n",
      "    Kirstin Ridley       0.47      0.14      0.22        50\n",
      "Kourosh Karimkhany       0.52      0.56      0.54        50\n",
      "        Lydia Zajc       0.77      0.40      0.53        50\n",
      "   Lynne O'Donnell       0.74      0.68      0.71        50\n",
      "  Lynnley Browning       0.86      0.88      0.87        50\n",
      "  Marcel Michelson       0.51      0.80      0.62        50\n",
      "     Mark Bendeich       0.48      0.72      0.58        50\n",
      "       Martin Wolk       0.60      0.24      0.34        50\n",
      "     Matthew Bunce       0.90      0.92      0.91        50\n",
      "    Michael Connor       0.52      0.76      0.62        50\n",
      "       Mure Dickie       0.48      0.20      0.28        50\n",
      "        Nick Louth       0.69      0.50      0.58        50\n",
      "  Patricia Commins       0.38      0.30      0.33        50\n",
      "    Peter Humphrey       0.44      0.42      0.43        50\n",
      "       Pierre Tran       0.65      0.26      0.37        50\n",
      "       Robin Sidel       0.70      0.60      0.65        50\n",
      "     Roger Fillion       0.54      0.56      0.55        50\n",
      "      Samuel Perry       0.43      0.24      0.31        50\n",
      "     Sarah Davison       0.48      0.28      0.35        50\n",
      "      Scott Hillis       0.22      0.38      0.28        50\n",
      "      Simon Cowell       0.63      0.24      0.35        50\n",
      "        Tan Ee Lyn       0.35      0.24      0.29        50\n",
      "   Therese Poletti       0.55      0.54      0.55        50\n",
      "       Tim Farrand       0.60      0.58      0.59        50\n",
      "       Todd Nissen       0.29      0.20      0.24        50\n",
      "     William Kazer       0.00      0.00      0.00        50\n",
      "\n",
      "          accuracy                           0.42      2500\n",
      "         macro avg       0.46      0.42      0.42      2500\n",
      "      weighted avg       0.46      0.42      0.42      2500\n",
      "\n"
     ]
    }
   ],
   "source": [
    "# Random Forest\n",
    "from sklearn.ensemble import RandomForestClassifier\n",
    "RF = RandomForestClassifier()\n",
    "RF.fit(X_train, train['Classes'])\n",
    "pred_RF = RF.predict(X_test)\n",
    "\n",
    "labels = list(train['AuthorName'].unique())\n",
    "print(classification_report(test['Classes'],pred_RF, target_names=labels))\n"
   ]
  },
  {
   "cell_type": "code",
   "execution_count": 46,
   "metadata": {},
   "outputs": [
    {
     "name": "stderr",
     "output_type": "stream",
     "text": [
      "C:\\Users\\moomi\\Anaconda3\\lib\\site-packages\\sklearn\\linear_model\\logistic.py:432: FutureWarning: Default solver will be changed to 'lbfgs' in 0.22. Specify a solver to silence this warning.\n",
      "  FutureWarning)\n",
      "C:\\Users\\moomi\\Anaconda3\\lib\\site-packages\\sklearn\\linear_model\\logistic.py:469: FutureWarning: Default multi_class will be changed to 'auto' in 0.22. Specify the multi_class option to silence this warning.\n",
      "  \"this warning.\", FutureWarning)\n"
     ]
    },
    {
     "name": "stdout",
     "output_type": "stream",
     "text": [
      "                    precision    recall  f1-score   support\n",
      "\n",
      "    Aaron Pressman       0.54      0.98      0.70        50\n",
      "       Alan Crosby       1.00      0.44      0.61        50\n",
      "   Alexander Smith       0.32      0.52      0.40        50\n",
      " Benjamin Kang Lim       0.22      0.30      0.25        50\n",
      "    Bernard Hickey       0.69      0.44      0.54        50\n",
      "     Brad Dorfman        0.80      0.70      0.74        50\n",
      " Darren Schuettler       0.46      0.24      0.32        50\n",
      "      David Lawder       0.56      0.18      0.27        50\n",
      "    Edna Fernandes       0.60      0.58      0.59        50\n",
      "      Eric Auchard       0.41      0.42      0.42        50\n",
      "   Fumiko Fujisaki       0.94      0.98      0.96        50\n",
      "   Graham Earnshaw       0.72      0.92      0.81        50\n",
      " Heather Scoffield       0.30      0.38      0.33        50\n",
      "    Jane Macartney       0.54      0.74      0.62        50\n",
      "       Jan Lopatka       0.14      0.10      0.12        50\n",
      "     Jim Gilchrist       0.93      1.00      0.96        50\n",
      "         Joe Ortiz       0.88      0.74      0.80        50\n",
      "     John Mastrini       0.56      0.70      0.62        50\n",
      "     Jonathan Birt       0.50      0.58      0.54        50\n",
      "   Jo Winterbottom       0.82      0.72      0.77        50\n",
      "      Karl Penhaul       0.53      1.00      0.69        50\n",
      "        Keith Weir       0.77      0.82      0.80        50\n",
      "   Kevin Drawbaugh       0.28      0.78      0.41        50\n",
      "    Kevin Morrison       0.57      0.60      0.58        50\n",
      "    Kirstin Ridley       0.96      0.48      0.64        50\n",
      "Kourosh Karimkhany       0.79      0.66      0.72        50\n",
      "        Lydia Zajc       0.97      0.62      0.76        50\n",
      "   Lynne O'Donnell       0.89      0.80      0.84        50\n",
      "  Lynnley Browning       0.90      0.90      0.90        50\n",
      "  Marcel Michelson       0.57      0.64      0.60        50\n",
      "     Mark Bendeich       0.68      0.60      0.64        50\n",
      "       Martin Wolk       0.76      0.52      0.62        50\n",
      "     Matthew Bunce       1.00      0.88      0.94        50\n",
      "    Michael Connor       0.76      0.84      0.80        50\n",
      "       Mure Dickie       0.23      0.18      0.20        50\n",
      "        Nick Louth       0.79      0.62      0.70        50\n",
      "  Patricia Commins       0.72      0.66      0.69        50\n",
      "    Peter Humphrey       0.56      0.48      0.52        50\n",
      "       Pierre Tran       0.67      0.44      0.53        50\n",
      "       Robin Sidel       0.93      0.74      0.82        50\n",
      "     Roger Fillion       0.82      0.80      0.81        50\n",
      "      Samuel Perry       0.79      0.62      0.70        50\n",
      "     Sarah Davison       0.74      0.50      0.60        50\n",
      "      Scott Hillis       0.12      0.04      0.06        50\n",
      "      Simon Cowell       0.73      0.44      0.55        50\n",
      "        Tan Ee Lyn       0.40      0.64      0.49        50\n",
      "   Therese Poletti       0.80      0.80      0.80        50\n",
      "       Tim Farrand       0.76      0.78      0.77        50\n",
      "       Todd Nissen       0.37      0.52      0.43        50\n",
      "     William Kazer       0.30      0.28      0.29        50\n",
      "\n",
      "          accuracy                           0.61      2500\n",
      "         macro avg       0.64      0.61      0.60      2500\n",
      "      weighted avg       0.64      0.61      0.60      2500\n",
      "\n"
     ]
    }
   ],
   "source": [
    "# Logistic Regression\n",
    "from sklearn.linear_model import LogisticRegression\n",
    "\n",
    "clf_lr = LogisticRegression()\n",
    "clf_lr.fit(X_train, train['Classes'])\n",
    "pred_LR = clf_lr.predict(X_test)\n",
    "\n",
    "labels = list(train['AuthorName'].unique())\n",
    "print(classification_report(test['Classes'],pred_LR, target_names=labels))\n"
   ]
  },
  {
   "cell_type": "markdown",
   "metadata": {},
   "source": [
    "## Applying ML ON TFIDF (LEMMATIZED)"
   ]
  },
  {
   "cell_type": "code",
   "execution_count": 47,
   "metadata": {},
   "outputs": [],
   "source": [
    "# Feature Extraction USING TFIDF for Lemmatization\n",
    "tfidf = TfidfVectorizer(min_df=5)\n",
    "X_train = tfidf.fit_transform(train['Clean_lem'])\n",
    "X_test = tfidf.transform(test['Clean_lem'])"
   ]
  },
  {
   "cell_type": "code",
   "execution_count": 48,
   "metadata": {},
   "outputs": [
    {
     "name": "stdout",
     "output_type": "stream",
     "text": [
      "                    precision    recall  f1-score   support\n",
      "\n",
      "    Aaron Pressman       0.81      0.94      0.87        50\n",
      "       Alan Crosby       1.00      0.52      0.68        50\n",
      "   Alexander Smith       0.36      0.58      0.44        50\n",
      " Benjamin Kang Lim       0.28      0.32      0.30        50\n",
      "    Bernard Hickey       0.67      0.66      0.67        50\n",
      "     Brad Dorfman        0.67      0.74      0.70        50\n",
      " Darren Schuettler       0.67      0.24      0.35        50\n",
      "      David Lawder       0.31      0.22      0.26        50\n",
      "    Edna Fernandes       0.92      0.44      0.59        50\n",
      "      Eric Auchard       0.42      0.34      0.38        50\n",
      "   Fumiko Fujisaki       0.89      1.00      0.94        50\n",
      "   Graham Earnshaw       0.55      0.94      0.70        50\n",
      " Heather Scoffield       0.32      0.44      0.37        50\n",
      "    Jane Macartney       0.54      0.62      0.58        50\n",
      "       Jan Lopatka       0.12      0.08      0.10        50\n",
      "     Jim Gilchrist       0.91      1.00      0.95        50\n",
      "         Joe Ortiz       0.84      0.86      0.85        50\n",
      "     John Mastrini       0.57      0.62      0.60        50\n",
      "     Jonathan Birt       0.51      0.52      0.51        50\n",
      "   Jo Winterbottom       0.73      0.82      0.77        50\n",
      "      Karl Penhaul       0.81      0.96      0.88        50\n",
      "        Keith Weir       0.78      0.76      0.77        50\n",
      "   Kevin Drawbaugh       0.41      0.72      0.53        50\n",
      "    Kevin Morrison       0.77      0.46      0.57        50\n",
      "    Kirstin Ridley       0.77      0.54      0.64        50\n",
      "Kourosh Karimkhany       0.65      0.72      0.69        50\n",
      "        Lydia Zajc       0.95      0.70      0.80        50\n",
      "   Lynne O'Donnell       0.85      0.80      0.82        50\n",
      "  Lynnley Browning       0.79      0.92      0.85        50\n",
      "  Marcel Michelson       0.55      0.66      0.60        50\n",
      "     Mark Bendeich       0.74      0.64      0.69        50\n",
      "       Martin Wolk       0.89      0.48      0.62        50\n",
      "     Matthew Bunce       0.94      0.88      0.91        50\n",
      "    Michael Connor       0.91      0.80      0.85        50\n",
      "       Mure Dickie       0.22      0.12      0.16        50\n",
      "        Nick Louth       0.69      0.94      0.80        50\n",
      "  Patricia Commins       0.78      0.58      0.67        50\n",
      "    Peter Humphrey       0.34      0.90      0.49        50\n",
      "       Pierre Tran       0.50      0.44      0.47        50\n",
      "       Robin Sidel       1.00      0.66      0.80        50\n",
      "     Roger Fillion       0.83      0.86      0.84        50\n",
      "      Samuel Perry       0.68      0.56      0.62        50\n",
      "     Sarah Davison       0.54      0.38      0.45        50\n",
      "      Scott Hillis       0.50      0.02      0.04        50\n",
      "      Simon Cowell       0.71      0.54      0.61        50\n",
      "        Tan Ee Lyn       0.19      0.12      0.15        50\n",
      "   Therese Poletti       0.56      0.86      0.68        50\n",
      "       Tim Farrand       0.52      0.86      0.65        50\n",
      "       Todd Nissen       0.27      0.34      0.30        50\n",
      "     William Kazer       0.23      0.22      0.22        50\n",
      "\n",
      "          accuracy                           0.61      2500\n",
      "         macro avg       0.63      0.61      0.60      2500\n",
      "      weighted avg       0.63      0.61      0.60      2500\n",
      "\n"
     ]
    }
   ],
   "source": [
    "# Naive Bayes\n",
    "nb = MultinomialNB()\n",
    "nb.fit(X_train, train['Classes'])\n",
    "pred_NB = nb.predict(X_test)\n",
    "from sklearn.metrics import classification_report\n",
    "labels = list(train['AuthorName'].unique())\n",
    "print(classification_report(test['Classes'],pred_NB, target_names=labels))"
   ]
  },
  {
   "cell_type": "code",
   "execution_count": 49,
   "metadata": {},
   "outputs": [
    {
     "name": "stderr",
     "output_type": "stream",
     "text": [
      "C:\\Users\\moomi\\Anaconda3\\lib\\site-packages\\sklearn\\svm\\base.py:193: FutureWarning: The default value of gamma will change from 'auto' to 'scale' in version 0.22 to account better for unscaled features. Set gamma explicitly to 'auto' or 'scale' to avoid this warning.\n",
      "  \"avoid this warning.\", FutureWarning)\n"
     ]
    },
    {
     "name": "stdout",
     "output_type": "stream",
     "text": [
      "                    precision    recall  f1-score   support\n",
      "\n",
      "    Aaron Pressman       0.68      0.80      0.73        50\n",
      "       Alan Crosby       1.00      0.20      0.33        50\n",
      "   Alexander Smith       0.05      0.36      0.09        50\n",
      " Benjamin Kang Lim       0.78      0.14      0.24        50\n",
      "    Bernard Hickey       0.64      0.14      0.23        50\n",
      "     Brad Dorfman        0.81      0.68      0.74        50\n",
      " Darren Schuettler       0.30      0.06      0.10        50\n",
      "      David Lawder       1.00      0.04      0.08        50\n",
      "    Edna Fernandes       0.41      0.56      0.47        50\n",
      "      Eric Auchard       0.33      0.38      0.35        50\n",
      "   Fumiko Fujisaki       1.00      0.26      0.41        50\n",
      "   Graham Earnshaw       0.90      0.36      0.51        50\n",
      " Heather Scoffield       0.89      0.16      0.27        50\n",
      "    Jane Macartney       0.42      0.64      0.50        50\n",
      "       Jan Lopatka       0.20      0.04      0.07        50\n",
      "     Jim Gilchrist       1.00      0.76      0.86        50\n",
      "         Joe Ortiz       0.93      0.28      0.43        50\n",
      "     John Mastrini       0.29      0.80      0.42        50\n",
      "     Jonathan Birt       0.57      0.32      0.41        50\n",
      "   Jo Winterbottom       0.93      0.50      0.65        50\n",
      "      Karl Penhaul       0.96      1.00      0.98        50\n",
      "        Keith Weir       0.74      0.56      0.64        50\n",
      "   Kevin Drawbaugh       0.09      0.86      0.16        50\n",
      "    Kevin Morrison       0.48      0.56      0.52        50\n",
      "    Kirstin Ridley       1.00      0.20      0.33        50\n",
      "Kourosh Karimkhany       0.96      0.44      0.60        50\n",
      "        Lydia Zajc       1.00      0.56      0.72        50\n",
      "   Lynne O'Donnell       0.97      0.66      0.79        50\n",
      "  Lynnley Browning       0.91      0.42      0.58        50\n",
      "  Marcel Michelson       0.46      0.36      0.40        50\n",
      "     Mark Bendeich       0.81      0.26      0.39        50\n",
      "       Martin Wolk       0.88      0.30      0.45        50\n",
      "     Matthew Bunce       1.00      0.60      0.75        50\n",
      "    Michael Connor       0.88      0.72      0.79        50\n",
      "       Mure Dickie       0.25      0.12      0.16        50\n",
      "        Nick Louth       0.50      0.04      0.07        50\n",
      "  Patricia Commins       0.83      0.10      0.18        50\n",
      "    Peter Humphrey       0.57      0.24      0.34        50\n",
      "       Pierre Tran       0.56      0.10      0.17        50\n",
      "       Robin Sidel       1.00      0.38      0.55        50\n",
      "     Roger Fillion       1.00      0.38      0.55        50\n",
      "      Samuel Perry       0.49      0.38      0.43        50\n",
      "     Sarah Davison       0.62      0.10      0.17        50\n",
      "      Scott Hillis       0.18      0.64      0.28        50\n",
      "      Simon Cowell       0.30      0.06      0.10        50\n",
      "        Tan Ee Lyn       0.33      0.58      0.42        50\n",
      "   Therese Poletti       0.92      0.22      0.35        50\n",
      "       Tim Farrand       0.77      0.34      0.47        50\n",
      "       Todd Nissen       0.47      0.56      0.51        50\n",
      "     William Kazer       0.20      0.26      0.23        50\n",
      "\n",
      "          accuracy                           0.39      2500\n",
      "         macro avg       0.66      0.39      0.42      2500\n",
      "      weighted avg       0.66      0.39      0.42      2500\n",
      "\n"
     ]
    }
   ],
   "source": [
    "# SVM\n",
    "from sklearn.svm import SVC\n",
    "svm = SVC()\n",
    "svm.fit(X_train, train['Classes'])\n",
    "pred_SVM = svm.predict(X_test)\n",
    "labels = list(train['AuthorName'].unique())\n",
    "print(classification_report(test['Classes'],pred_SVM, target_names=labels))"
   ]
  },
  {
   "cell_type": "code",
   "execution_count": 50,
   "metadata": {},
   "outputs": [
    {
     "name": "stderr",
     "output_type": "stream",
     "text": [
      "C:\\Users\\moomi\\Anaconda3\\lib\\site-packages\\sklearn\\ensemble\\forest.py:245: FutureWarning: The default value of n_estimators will change from 10 in version 0.20 to 100 in 0.22.\n",
      "  \"10 in version 0.20 to 100 in 0.22.\", FutureWarning)\n"
     ]
    },
    {
     "name": "stdout",
     "output_type": "stream",
     "text": [
      "                    precision    recall  f1-score   support\n",
      "\n",
      "    Aaron Pressman       0.28      0.62      0.39        50\n",
      "       Alan Crosby       0.54      0.38      0.45        50\n",
      "   Alexander Smith       0.25      0.36      0.30        50\n",
      " Benjamin Kang Lim       0.15      0.48      0.23        50\n",
      "    Bernard Hickey       0.42      0.32      0.36        50\n",
      "     Brad Dorfman        0.26      0.38      0.31        50\n",
      " Darren Schuettler       0.29      0.40      0.34        50\n",
      "      David Lawder       0.50      0.26      0.34        50\n",
      "    Edna Fernandes       0.21      0.22      0.22        50\n",
      "      Eric Auchard       0.16      0.18      0.17        50\n",
      "   Fumiko Fujisaki       0.70      0.80      0.75        50\n",
      "   Graham Earnshaw       0.54      0.62      0.58        50\n",
      " Heather Scoffield       0.28      0.34      0.31        50\n",
      "    Jane Macartney       0.49      0.40      0.44        50\n",
      "       Jan Lopatka       0.07      0.06      0.07        50\n",
      "     Jim Gilchrist       0.84      0.98      0.91        50\n",
      "         Joe Ortiz       0.51      0.40      0.45        50\n",
      "     John Mastrini       0.49      0.38      0.43        50\n",
      "     Jonathan Birt       0.42      0.68      0.52        50\n",
      "   Jo Winterbottom       0.41      0.26      0.32        50\n",
      "      Karl Penhaul       0.85      0.94      0.90        50\n",
      "        Keith Weir       0.47      0.28      0.35        50\n",
      "   Kevin Drawbaugh       0.14      0.04      0.06        50\n",
      "    Kevin Morrison       0.47      0.32      0.38        50\n",
      "    Kirstin Ridley       0.47      0.34      0.40        50\n",
      "Kourosh Karimkhany       0.59      0.66      0.62        50\n",
      "        Lydia Zajc       1.00      0.34      0.51        50\n",
      "   Lynne O'Donnell       0.74      0.70      0.72        50\n",
      "  Lynnley Browning       0.84      0.92      0.88        50\n",
      "  Marcel Michelson       0.55      0.46      0.50        50\n",
      "     Mark Bendeich       0.62      0.60      0.61        50\n",
      "       Martin Wolk       0.72      0.42      0.53        50\n",
      "     Matthew Bunce       0.84      0.82      0.83        50\n",
      "    Michael Connor       0.34      0.80      0.48        50\n",
      "       Mure Dickie       0.25      0.02      0.04        50\n",
      "        Nick Louth       0.76      0.52      0.62        50\n",
      "  Patricia Commins       0.32      0.28      0.30        50\n",
      "    Peter Humphrey       0.38      0.48      0.42        50\n",
      "       Pierre Tran       0.64      0.60      0.62        50\n",
      "       Robin Sidel       0.54      0.50      0.52        50\n",
      "     Roger Fillion       0.80      0.74      0.77        50\n",
      "      Samuel Perry       0.29      0.22      0.25        50\n",
      "     Sarah Davison       0.52      0.24      0.33        50\n",
      "      Scott Hillis       0.16      0.08      0.11        50\n",
      "      Simon Cowell       0.34      0.74      0.47        50\n",
      "        Tan Ee Lyn       0.29      0.36      0.32        50\n",
      "   Therese Poletti       0.42      0.40      0.41        50\n",
      "       Tim Farrand       0.35      0.16      0.22        50\n",
      "       Todd Nissen       0.40      0.46      0.43        50\n",
      "     William Kazer       0.25      0.04      0.07        50\n",
      "\n",
      "          accuracy                           0.44      2500\n",
      "         macro avg       0.46      0.44      0.43      2500\n",
      "      weighted avg       0.46      0.44      0.43      2500\n",
      "\n"
     ]
    }
   ],
   "source": [
    "# Random Forest\n",
    "\n",
    "from sklearn.ensemble import RandomForestClassifier\n",
    "RF = RandomForestClassifier()\n",
    "RF.fit(X_train, train['Classes'])\n",
    "pred_RF = RF.predict(X_test)\n",
    "\n",
    "labels = list(train['AuthorName'].unique())\n",
    "print(classification_report(test['Classes'],pred_RF, target_names=labels))"
   ]
  },
  {
   "cell_type": "code",
   "execution_count": 51,
   "metadata": {},
   "outputs": [
    {
     "name": "stderr",
     "output_type": "stream",
     "text": [
      "C:\\Users\\moomi\\Anaconda3\\lib\\site-packages\\sklearn\\linear_model\\logistic.py:432: FutureWarning: Default solver will be changed to 'lbfgs' in 0.22. Specify a solver to silence this warning.\n",
      "  FutureWarning)\n",
      "C:\\Users\\moomi\\Anaconda3\\lib\\site-packages\\sklearn\\linear_model\\logistic.py:469: FutureWarning: Default multi_class will be changed to 'auto' in 0.22. Specify the multi_class option to silence this warning.\n",
      "  \"this warning.\", FutureWarning)\n"
     ]
    },
    {
     "name": "stdout",
     "output_type": "stream",
     "text": [
      "                    precision    recall  f1-score   support\n",
      "\n",
      "    Aaron Pressman       0.57      0.98      0.72        50\n",
      "       Alan Crosby       1.00      0.50      0.67        50\n",
      "   Alexander Smith       0.33      0.52      0.40        50\n",
      " Benjamin Kang Lim       0.23      0.32      0.26        50\n",
      "    Bernard Hickey       0.72      0.42      0.53        50\n",
      "     Brad Dorfman        0.78      0.72      0.75        50\n",
      " Darren Schuettler       0.43      0.24      0.31        50\n",
      "      David Lawder       0.56      0.18      0.27        50\n",
      "    Edna Fernandes       0.70      0.62      0.66        50\n",
      "      Eric Auchard       0.43      0.40      0.42        50\n",
      "   Fumiko Fujisaki       0.94      0.98      0.96        50\n",
      "   Graham Earnshaw       0.71      0.92      0.80        50\n",
      " Heather Scoffield       0.30      0.38      0.33        50\n",
      "    Jane Macartney       0.55      0.68      0.61        50\n",
      "       Jan Lopatka       0.12      0.08      0.10        50\n",
      "     Jim Gilchrist       0.93      1.00      0.96        50\n",
      "         Joe Ortiz       0.86      0.74      0.80        50\n",
      "     John Mastrini       0.60      0.74      0.66        50\n",
      "     Jonathan Birt       0.47      0.60      0.53        50\n",
      "   Jo Winterbottom       0.77      0.74      0.76        50\n",
      "      Karl Penhaul       0.54      1.00      0.70        50\n",
      "        Keith Weir       0.78      0.78      0.78        50\n",
      "   Kevin Drawbaugh       0.30      0.78      0.44        50\n",
      "    Kevin Morrison       0.57      0.62      0.60        50\n",
      "    Kirstin Ridley       0.92      0.46      0.61        50\n",
      "Kourosh Karimkhany       0.77      0.68      0.72        50\n",
      "        Lydia Zajc       0.97      0.60      0.74        50\n",
      "   Lynne O'Donnell       0.89      0.80      0.84        50\n",
      "  Lynnley Browning       0.90      0.90      0.90        50\n",
      "  Marcel Michelson       0.56      0.62      0.59        50\n",
      "     Mark Bendeich       0.70      0.60      0.65        50\n",
      "       Martin Wolk       0.76      0.52      0.62        50\n",
      "     Matthew Bunce       1.00      0.88      0.94        50\n",
      "    Michael Connor       0.69      0.86      0.77        50\n",
      "       Mure Dickie       0.26      0.22      0.24        50\n",
      "        Nick Louth       0.80      0.70      0.74        50\n",
      "  Patricia Commins       0.72      0.78      0.75        50\n",
      "    Peter Humphrey       0.55      0.42      0.48        50\n",
      "       Pierre Tran       0.63      0.44      0.52        50\n",
      "       Robin Sidel       0.93      0.74      0.82        50\n",
      "     Roger Fillion       0.80      0.80      0.80        50\n",
      "      Samuel Perry       0.81      0.58      0.67        50\n",
      "     Sarah Davison       0.74      0.50      0.60        50\n",
      "      Scott Hillis       0.13      0.04      0.06        50\n",
      "      Simon Cowell       0.71      0.40      0.51        50\n",
      "        Tan Ee Lyn       0.38      0.68      0.49        50\n",
      "   Therese Poletti       0.75      0.80      0.78        50\n",
      "       Tim Farrand       0.75      0.78      0.76        50\n",
      "       Todd Nissen       0.38      0.54      0.45        50\n",
      "     William Kazer       0.31      0.28      0.29        50\n",
      "\n",
      "          accuracy                           0.61      2500\n",
      "         macro avg       0.64      0.61      0.61      2500\n",
      "      weighted avg       0.64      0.61      0.61      2500\n",
      "\n"
     ]
    }
   ],
   "source": [
    "# Logistic Regression\n",
    "from sklearn.linear_model import LogisticRegression\n",
    "\n",
    "clf_lr = LogisticRegression()\n",
    "clf_lr.fit(X_train, train['Classes'])\n",
    "pred_LR = clf_lr.predict(X_test)\n",
    "\n",
    "labels = list(train['AuthorName'].unique())\n",
    "print(classification_report(test['Classes'],pred_LR, target_names=labels))\n"
   ]
  },
  {
   "cell_type": "markdown",
   "metadata": {},
   "source": [
    "## Applying ML ON TFIDF (STEMMED)"
   ]
  },
  {
   "cell_type": "code",
   "execution_count": 52,
   "metadata": {},
   "outputs": [],
   "source": [
    "# Feature Extraction USING TFIDF for Stemming\n",
    "\n",
    "tfidf = TfidfVectorizer(min_df=5)\n",
    "X_train = tfidf.fit_transform(train['Clean_stem'])\n",
    "X_test = tfidf.transform(test['Clean_stem'])"
   ]
  },
  {
   "cell_type": "code",
   "execution_count": 53,
   "metadata": {},
   "outputs": [
    {
     "name": "stdout",
     "output_type": "stream",
     "text": [
      "                    precision    recall  f1-score   support\n",
      "\n",
      "    Aaron Pressman       0.82      0.94      0.88        50\n",
      "       Alan Crosby       1.00      0.52      0.68        50\n",
      "   Alexander Smith       0.29      0.58      0.38        50\n",
      " Benjamin Kang Lim       0.31      0.32      0.32        50\n",
      "    Bernard Hickey       0.66      0.66      0.66        50\n",
      "     Brad Dorfman        0.67      0.76      0.71        50\n",
      " Darren Schuettler       0.67      0.24      0.35        50\n",
      "      David Lawder       0.32      0.22      0.26        50\n",
      "    Edna Fernandes       0.92      0.46      0.61        50\n",
      "      Eric Auchard       0.39      0.32      0.35        50\n",
      "   Fumiko Fujisaki       0.91      1.00      0.95        50\n",
      "   Graham Earnshaw       0.52      0.94      0.67        50\n",
      " Heather Scoffield       0.35      0.48      0.41        50\n",
      "    Jane Macartney       0.52      0.74      0.61        50\n",
      "       Jan Lopatka       0.15      0.08      0.10        50\n",
      "     Jim Gilchrist       0.89      1.00      0.94        50\n",
      "         Joe Ortiz       0.88      0.84      0.86        50\n",
      "     John Mastrini       0.59      0.66      0.62        50\n",
      "     Jonathan Birt       0.56      0.46      0.51        50\n",
      "   Jo Winterbottom       0.75      0.82      0.78        50\n",
      "      Karl Penhaul       0.80      0.96      0.87        50\n",
      "        Keith Weir       0.78      0.78      0.78        50\n",
      "   Kevin Drawbaugh       0.38      0.68      0.49        50\n",
      "    Kevin Morrison       0.74      0.40      0.52        50\n",
      "    Kirstin Ridley       0.79      0.52      0.63        50\n",
      "Kourosh Karimkhany       0.77      0.72      0.74        50\n",
      "        Lydia Zajc       0.90      0.72      0.80        50\n",
      "   Lynne O'Donnell       0.85      0.80      0.82        50\n",
      "  Lynnley Browning       0.82      0.92      0.87        50\n",
      "  Marcel Michelson       0.58      0.70      0.64        50\n",
      "     Mark Bendeich       0.66      0.62      0.64        50\n",
      "       Martin Wolk       0.90      0.52      0.66        50\n",
      "     Matthew Bunce       0.94      0.88      0.91        50\n",
      "    Michael Connor       0.93      0.80      0.86        50\n",
      "       Mure Dickie       0.20      0.12      0.15        50\n",
      "        Nick Louth       0.70      0.84      0.76        50\n",
      "  Patricia Commins       0.76      0.58      0.66        50\n",
      "    Peter Humphrey       0.34      0.88      0.49        50\n",
      "       Pierre Tran       0.66      0.46      0.54        50\n",
      "       Robin Sidel       1.00      0.60      0.75        50\n",
      "     Roger Fillion       0.78      0.86      0.82        50\n",
      "      Samuel Perry       0.62      0.68      0.65        50\n",
      "     Sarah Davison       0.56      0.44      0.49        50\n",
      "      Scott Hillis       0.25      0.02      0.04        50\n",
      "      Simon Cowell       0.71      0.50      0.59        50\n",
      "        Tan Ee Lyn       0.19      0.12      0.15        50\n",
      "   Therese Poletti       0.63      0.86      0.73        50\n",
      "       Tim Farrand       0.53      0.82      0.64        50\n",
      "       Todd Nissen       0.32      0.38      0.35        50\n",
      "     William Kazer       0.28      0.28      0.28        50\n",
      "\n",
      "          accuracy                           0.61      2500\n",
      "         macro avg       0.63      0.61      0.60      2500\n",
      "      weighted avg       0.63      0.61      0.60      2500\n",
      "\n"
     ]
    }
   ],
   "source": [
    "# Naive Bayes\n",
    "from sklearn.naive_bayes import MultinomialNB\n",
    "nb = MultinomialNB()\n",
    "nb.fit(X_train, train['Classes'])\n",
    "pred_NB = nb.predict(X_test)\n",
    "from sklearn.metrics import classification_report\n",
    "labels = list(train['AuthorName'].unique())\n",
    "print(classification_report(test['Classes'],pred_NB, target_names=labels))"
   ]
  },
  {
   "cell_type": "code",
   "execution_count": 54,
   "metadata": {},
   "outputs": [
    {
     "name": "stderr",
     "output_type": "stream",
     "text": [
      "C:\\Users\\moomi\\Anaconda3\\lib\\site-packages\\sklearn\\svm\\base.py:193: FutureWarning: The default value of gamma will change from 'auto' to 'scale' in version 0.22 to account better for unscaled features. Set gamma explicitly to 'auto' or 'scale' to avoid this warning.\n",
      "  \"avoid this warning.\", FutureWarning)\n"
     ]
    },
    {
     "name": "stdout",
     "output_type": "stream",
     "text": [
      "                    precision    recall  f1-score   support\n",
      "\n",
      "    Aaron Pressman       0.73      0.74      0.73        50\n",
      "       Alan Crosby       1.00      0.20      0.33        50\n",
      "   Alexander Smith       0.06      0.46      0.10        50\n",
      " Benjamin Kang Lim       0.80      0.16      0.27        50\n",
      "    Bernard Hickey       0.64      0.14      0.23        50\n",
      "     Brad Dorfman        0.69      0.54      0.61        50\n",
      " Darren Schuettler       0.14      0.02      0.04        50\n",
      "      David Lawder       0.75      0.06      0.11        50\n",
      "    Edna Fernandes       0.39      0.56      0.46        50\n",
      "      Eric Auchard       0.33      0.32      0.32        50\n",
      "   Fumiko Fujisaki       1.00      0.28      0.44        50\n",
      "   Graham Earnshaw       0.82      0.18      0.30        50\n",
      " Heather Scoffield       0.80      0.16      0.27        50\n",
      "    Jane Macartney       0.40      0.50      0.45        50\n",
      "       Jan Lopatka       0.29      0.04      0.07        50\n",
      "     Jim Gilchrist       1.00      0.74      0.85        50\n",
      "         Joe Ortiz       0.91      0.20      0.33        50\n",
      "     John Mastrini       0.30      0.64      0.41        50\n",
      "     Jonathan Birt       0.48      0.30      0.37        50\n",
      "   Jo Winterbottom       1.00      0.46      0.63        50\n",
      "      Karl Penhaul       1.00      0.92      0.96        50\n",
      "        Keith Weir       0.68      0.42      0.52        50\n",
      "   Kevin Drawbaugh       0.07      0.92      0.13        50\n",
      "    Kevin Morrison       0.39      0.40      0.40        50\n",
      "    Kirstin Ridley       1.00      0.20      0.33        50\n",
      "Kourosh Karimkhany       0.95      0.36      0.52        50\n",
      "        Lydia Zajc       1.00      0.56      0.72        50\n",
      "   Lynne O'Donnell       1.00      0.66      0.80        50\n",
      "  Lynnley Browning       0.92      0.46      0.61        50\n",
      "  Marcel Michelson       0.42      0.26      0.32        50\n",
      "     Mark Bendeich       0.83      0.20      0.32        50\n",
      "       Martin Wolk       0.86      0.38      0.53        50\n",
      "     Matthew Bunce       1.00      0.60      0.75        50\n",
      "    Michael Connor       0.92      0.68      0.78        50\n",
      "       Mure Dickie       0.26      0.10      0.14        50\n",
      "        Nick Louth       0.60      0.06      0.11        50\n",
      "  Patricia Commins       1.00      0.04      0.08        50\n",
      "    Peter Humphrey       0.43      0.26      0.33        50\n",
      "       Pierre Tran       1.00      0.10      0.18        50\n",
      "       Robin Sidel       1.00      0.38      0.55        50\n",
      "     Roger Fillion       1.00      0.28      0.44        50\n",
      "      Samuel Perry       0.59      0.26      0.36        50\n",
      "     Sarah Davison       0.67      0.16      0.26        50\n",
      "      Scott Hillis       0.20      0.60      0.30        50\n",
      "      Simon Cowell       0.33      0.06      0.10        50\n",
      "        Tan Ee Lyn       0.33      0.40      0.36        50\n",
      "   Therese Poletti       1.00      0.22      0.36        50\n",
      "       Tim Farrand       0.74      0.28      0.41        50\n",
      "       Todd Nissen       0.52      0.52      0.52        50\n",
      "     William Kazer       0.17      0.28      0.21        50\n",
      "\n",
      "          accuracy                           0.35      2500\n",
      "         macro avg       0.67      0.35      0.39      2500\n",
      "      weighted avg       0.67      0.35      0.39      2500\n",
      "\n"
     ]
    }
   ],
   "source": [
    "# SVM\n",
    "from sklearn.svm import SVC\n",
    "svm = SVC()\n",
    "svm.fit(X_train, train['Classes'])\n",
    "pred_SVM = svm.predict(X_test)\n",
    "labels = list(train['AuthorName'].unique())\n",
    "print(classification_report(test['Classes'],pred_SVM, target_names=labels))"
   ]
  },
  {
   "cell_type": "code",
   "execution_count": 55,
   "metadata": {},
   "outputs": [
    {
     "name": "stderr",
     "output_type": "stream",
     "text": [
      "C:\\Users\\moomi\\Anaconda3\\lib\\site-packages\\sklearn\\ensemble\\forest.py:245: FutureWarning: The default value of n_estimators will change from 10 in version 0.20 to 100 in 0.22.\n",
      "  \"10 in version 0.20 to 100 in 0.22.\", FutureWarning)\n"
     ]
    },
    {
     "name": "stdout",
     "output_type": "stream",
     "text": [
      "                    precision    recall  f1-score   support\n",
      "\n",
      "    Aaron Pressman       0.28      0.68      0.40        50\n",
      "       Alan Crosby       0.56      0.46      0.51        50\n",
      "   Alexander Smith       0.12      0.36      0.19        50\n",
      " Benjamin Kang Lim       0.22      0.40      0.29        50\n",
      "    Bernard Hickey       0.20      0.36      0.25        50\n",
      "     Brad Dorfman        0.29      0.38      0.33        50\n",
      " Darren Schuettler       0.25      0.36      0.29        50\n",
      "      David Lawder       0.54      0.26      0.35        50\n",
      "    Edna Fernandes       0.16      0.14      0.15        50\n",
      "      Eric Auchard       0.21      0.22      0.21        50\n",
      "   Fumiko Fujisaki       0.73      0.76      0.75        50\n",
      "   Graham Earnshaw       0.51      0.62      0.56        50\n",
      " Heather Scoffield       0.24      0.28      0.26        50\n",
      "    Jane Macartney       0.42      0.44      0.43        50\n",
      "       Jan Lopatka       0.17      0.14      0.15        50\n",
      "     Jim Gilchrist       0.96      0.94      0.95        50\n",
      "         Joe Ortiz       0.57      0.42      0.48        50\n",
      "     John Mastrini       0.30      0.32      0.31        50\n",
      "     Jonathan Birt       0.28      0.32      0.30        50\n",
      "   Jo Winterbottom       0.45      0.30      0.36        50\n",
      "      Karl Penhaul       0.94      0.98      0.96        50\n",
      "        Keith Weir       0.39      0.40      0.40        50\n",
      "   Kevin Drawbaugh       0.24      0.26      0.25        50\n",
      "    Kevin Morrison       0.27      0.16      0.20        50\n",
      "    Kirstin Ridley       0.38      0.20      0.26        50\n",
      "Kourosh Karimkhany       0.57      0.68      0.62        50\n",
      "        Lydia Zajc       0.94      0.30      0.45        50\n",
      "   Lynne O'Donnell       0.67      0.62      0.65        50\n",
      "  Lynnley Browning       0.88      0.90      0.89        50\n",
      "  Marcel Michelson       0.60      0.56      0.58        50\n",
      "     Mark Bendeich       0.39      0.40      0.40        50\n",
      "       Martin Wolk       0.75      0.24      0.36        50\n",
      "     Matthew Bunce       0.96      0.94      0.95        50\n",
      "    Michael Connor       0.50      0.76      0.60        50\n",
      "       Mure Dickie       0.15      0.10      0.12        50\n",
      "        Nick Louth       0.56      0.50      0.53        50\n",
      "  Patricia Commins       0.46      0.44      0.45        50\n",
      "    Peter Humphrey       0.43      0.46      0.44        50\n",
      "       Pierre Tran       0.71      0.24      0.36        50\n",
      "       Robin Sidel       0.65      0.52      0.58        50\n",
      "     Roger Fillion       0.96      0.50      0.66        50\n",
      "      Samuel Perry       0.36      0.24      0.29        50\n",
      "     Sarah Davison       0.30      0.28      0.29        50\n",
      "      Scott Hillis       0.14      0.12      0.13        50\n",
      "      Simon Cowell       0.23      0.12      0.16        50\n",
      "        Tan Ee Lyn       0.19      0.10      0.13        50\n",
      "   Therese Poletti       0.33      0.34      0.33        50\n",
      "       Tim Farrand       0.35      0.18      0.24        50\n",
      "       Todd Nissen       0.45      0.58      0.51        50\n",
      "     William Kazer       0.16      0.16      0.16        50\n",
      "\n",
      "          accuracy                           0.41      2500\n",
      "         macro avg       0.45      0.41      0.41      2500\n",
      "      weighted avg       0.45      0.41      0.41      2500\n",
      "\n"
     ]
    }
   ],
   "source": [
    "# Random Forest\n",
    "\n",
    "from sklearn.ensemble import RandomForestClassifier\n",
    "RF = RandomForestClassifier()\n",
    "RF.fit(X_train, train['Classes'])\n",
    "pred_RF = RF.predict(X_test)\n",
    "\n",
    "labels = list(train['AuthorName'].unique())\n",
    "print(classification_report(test['Classes'],pred_RF, target_names=labels))"
   ]
  },
  {
   "cell_type": "code",
   "execution_count": 56,
   "metadata": {},
   "outputs": [
    {
     "name": "stderr",
     "output_type": "stream",
     "text": [
      "C:\\Users\\moomi\\Anaconda3\\lib\\site-packages\\sklearn\\linear_model\\logistic.py:432: FutureWarning: Default solver will be changed to 'lbfgs' in 0.22. Specify a solver to silence this warning.\n",
      "  FutureWarning)\n",
      "C:\\Users\\moomi\\Anaconda3\\lib\\site-packages\\sklearn\\linear_model\\logistic.py:469: FutureWarning: Default multi_class will be changed to 'auto' in 0.22. Specify the multi_class option to silence this warning.\n",
      "  \"this warning.\", FutureWarning)\n"
     ]
    },
    {
     "name": "stdout",
     "output_type": "stream",
     "text": [
      "                    precision    recall  f1-score   support\n",
      "\n",
      "    Aaron Pressman       0.58      0.96      0.72        50\n",
      "       Alan Crosby       1.00      0.54      0.70        50\n",
      "   Alexander Smith       0.26      0.42      0.32        50\n",
      " Benjamin Kang Lim       0.30      0.30      0.30        50\n",
      "    Bernard Hickey       0.72      0.42      0.53        50\n",
      "     Brad Dorfman        0.81      0.68      0.74        50\n",
      " Darren Schuettler       0.39      0.24      0.30        50\n",
      "      David Lawder       0.60      0.24      0.34        50\n",
      "    Edna Fernandes       0.61      0.62      0.61        50\n",
      "      Eric Auchard       0.39      0.40      0.40        50\n",
      "   Fumiko Fujisaki       0.92      0.98      0.95        50\n",
      "   Graham Earnshaw       0.73      0.90      0.80        50\n",
      " Heather Scoffield       0.30      0.38      0.33        50\n",
      "    Jane Macartney       0.51      0.70      0.59        50\n",
      "       Jan Lopatka       0.18      0.10      0.13        50\n",
      "     Jim Gilchrist       0.93      1.00      0.96        50\n",
      "         Joe Ortiz       0.86      0.76      0.81        50\n",
      "     John Mastrini       0.54      0.72      0.62        50\n",
      "     Jonathan Birt       0.50      0.54      0.52        50\n",
      "   Jo Winterbottom       0.81      0.78      0.80        50\n",
      "      Karl Penhaul       0.57      0.98      0.72        50\n",
      "        Keith Weir       0.77      0.74      0.76        50\n",
      "   Kevin Drawbaugh       0.26      0.80      0.39        50\n",
      "    Kevin Morrison       0.60      0.66      0.63        50\n",
      "    Kirstin Ridley       0.92      0.46      0.61        50\n",
      "Kourosh Karimkhany       0.74      0.64      0.69        50\n",
      "        Lydia Zajc       0.94      0.64      0.76        50\n",
      "   Lynne O'Donnell       0.89      0.80      0.84        50\n",
      "  Lynnley Browning       0.92      0.92      0.92        50\n",
      "  Marcel Michelson       0.59      0.66      0.62        50\n",
      "     Mark Bendeich       0.69      0.62      0.65        50\n",
      "       Martin Wolk       0.74      0.56      0.64        50\n",
      "     Matthew Bunce       0.98      0.88      0.93        50\n",
      "    Michael Connor       0.69      0.86      0.77        50\n",
      "       Mure Dickie       0.23      0.20      0.21        50\n",
      "        Nick Louth       0.77      0.54      0.64        50\n",
      "  Patricia Commins       0.75      0.66      0.70        50\n",
      "    Peter Humphrey       0.52      0.28      0.36        50\n",
      "       Pierre Tran       0.73      0.44      0.55        50\n",
      "       Robin Sidel       0.94      0.68      0.79        50\n",
      "     Roger Fillion       0.75      0.80      0.78        50\n",
      "      Samuel Perry       0.79      0.54      0.64        50\n",
      "     Sarah Davison       0.71      0.50      0.59        50\n",
      "      Scott Hillis       0.28      0.22      0.25        50\n",
      "      Simon Cowell       0.74      0.40      0.52        50\n",
      "        Tan Ee Lyn       0.34      0.68      0.46        50\n",
      "   Therese Poletti       0.85      0.78      0.81        50\n",
      "       Tim Farrand       0.76      0.78      0.77        50\n",
      "       Todd Nissen       0.40      0.52      0.45        50\n",
      "     William Kazer       0.32      0.26      0.29        50\n",
      "\n",
      "          accuracy                           0.60      2500\n",
      "         macro avg       0.64      0.60      0.60      2500\n",
      "      weighted avg       0.64      0.60      0.60      2500\n",
      "\n"
     ]
    }
   ],
   "source": [
    "# Logistic Regression\n",
    "from sklearn.linear_model import LogisticRegression\n",
    "\n",
    "clf_lr = LogisticRegression()\n",
    "clf_lr.fit(X_train, train['Classes'])\n",
    "pred_LR = clf_lr.predict(X_test)\n",
    "\n",
    "labels = list(train['AuthorName'].unique())\n",
    "print(classification_report(test['Classes'],pred_LR, target_names=labels))"
   ]
  },
  {
   "cell_type": "markdown",
   "metadata": {},
   "source": [
    "## Using Pretrained GLoveEmbeddings"
   ]
  },
  {
   "cell_type": "code",
   "execution_count": 57,
   "metadata": {},
   "outputs": [],
   "source": [
    "import gensim\n",
    "from gensim.scripts.glove2word2vec import glove2word2vec\n",
    "from gensim.models.keyedvectors import KeyedVectors"
   ]
  },
  {
   "cell_type": "code",
   "execution_count": 60,
   "metadata": {},
   "outputs": [],
   "source": [
    "# Converting the GLovefile to Word2Vec Model\n",
    "#glove2word2vec(glove_input_file=\"glove.6B.100d.txt\", word2vec_output_file=\"gensim_glove_vectors.txt\")"
   ]
  },
  {
   "cell_type": "code",
   "execution_count": 61,
   "metadata": {},
   "outputs": [],
   "source": [
    "# Load the glove model using the gensim library\n",
    "glove_model = KeyedVectors.load_word2vec_format(\"gensim_glove_vectors.txt\")"
   ]
  },
  {
   "cell_type": "code",
   "execution_count": 62,
   "metadata": {},
   "outputs": [],
   "source": [
    "# Class to map the vectors that we loaded and then map them to our vocabulary. \n",
    "\n",
    "class Word2VecVectorizer:\n",
    "\n",
    "    def __init__(self, model):\n",
    "        self.word_vectors = model\n",
    "\n",
    "    def fit(self, data):\n",
    "        pass\n",
    "\n",
    "    def transform(self, data):\n",
    "        # determine the dimensionality of vectors\n",
    "        v = self.word_vectors.get_vector('king')\n",
    "        self.D = v.shape[0]\n",
    "\n",
    "        X = np.zeros((len(data), self.D))\n",
    "        n = 0\n",
    "        emptycount = 0\n",
    "        # Read each line in text column, and then split it by word \n",
    "        for sentence in data:\n",
    "            tokens = sentence.split()\n",
    "            vecs = []\n",
    "            m = 0\n",
    "            # For each token, check if that token is present in the pre trained word embedding\n",
    "            for word in tokens:\n",
    "                try:\n",
    "                    # If word not found\n",
    "                    vec = self.word_vectors.get_vector(word)\n",
    "                    vecs.append(vec)\n",
    "                    m += 1\n",
    "                except KeyError:\n",
    "                    pass\n",
    "            # Check if there are any vectors for that word, then we take the mean of all the vectors\n",
    "            if len(vecs) > 0:\n",
    "                vecs = np.array(vecs)\n",
    "                X[n] = vecs.mean(axis=0)\n",
    "            else:\n",
    "                emptycount += 1\n",
    "            n += 1\n",
    "            print(\"Numer of samples with no words found: %s / %s\" % (emptycount, len(data)))\n",
    "            return X\n",
    "\n",
    "\n",
    "    def fit_transform(self, data):\n",
    "        self.fit(data)\n",
    "        return self.transform(data)"
   ]
  },
  {
   "cell_type": "code",
   "execution_count": 63,
   "metadata": {},
   "outputs": [
    {
     "name": "stdout",
     "output_type": "stream",
     "text": [
      "Numer of samples with no words found: 0 / 2500\n",
      "Numer of samples with no words found: 0 / 2500\n"
     ]
    }
   ],
   "source": [
    "vectorizer = Word2VecVectorizer(glove_model)\n",
    "\n",
    "X_train = vectorizer.fit_transform(train['Clean'])\n",
    "\n",
    "# Get the sentence embeddings for the test dataset\n",
    "X_test = vectorizer.transform(test['Clean'])\n",
    "# Ytest = test_labels"
   ]
  },
  {
   "cell_type": "code",
   "execution_count": 64,
   "metadata": {},
   "outputs": [
    {
     "data": {
      "text/plain": [
       "array([-1.13336638e-01,  1.73082277e-01,  1.82836667e-01, -6.89543933e-02,\n",
       "        1.82528168e-01, -9.18091610e-02, -1.81612849e-01,  1.59249157e-01,\n",
       "        7.05214664e-02, -6.30912650e-03,  1.69772759e-01, -4.45359945e-02,\n",
       "        1.29507482e-01, -1.26549065e-01,  1.54037043e-01, -2.30689287e-01,\n",
       "        1.27132088e-01,  8.72290805e-02, -1.49193019e-01,  1.17542163e-01,\n",
       "        8.90284404e-02, -4.59882021e-02,  1.65893286e-01,  9.20170695e-02,\n",
       "        5.98881468e-02, -2.48903126e-01,  3.11871117e-04, -1.35291174e-01,\n",
       "       -5.58560565e-02, -3.89058026e-03,  3.87807749e-02,  4.19959873e-01,\n",
       "       -1.78814515e-01, -6.19041771e-02,  1.46448165e-01,  1.64389834e-01,\n",
       "       -2.00237297e-02,  1.14720603e-02, -4.40712348e-02, -3.42216492e-02,\n",
       "       -1.60388425e-01, -2.74849236e-01, -1.06971860e-01, -6.30182326e-02,\n",
       "       -3.94018888e-02, -1.09048905e-02,  1.10735826e-01, -2.73912460e-01,\n",
       "        4.68076207e-02, -4.62370515e-01,  1.83390364e-01, -4.09960486e-02,\n",
       "        5.78401759e-02,  7.62954533e-01,  3.31455213e-03, -1.68190122e+00,\n",
       "       -3.62510495e-02, -1.66608393e-01,  1.53337288e+00,  3.45035583e-01,\n",
       "       -1.37529582e-01,  3.65490437e-01, -1.14176966e-01, -5.12168463e-03,\n",
       "        4.12960947e-01,  8.51695314e-02,  1.75330132e-01,  2.19461452e-02,\n",
       "        4.32770133e-01, -1.03706434e-01, -3.21386568e-02, -1.57095283e-01,\n",
       "        2.27957815e-02, -2.14511737e-01,  1.65245041e-01,  2.07805224e-02,\n",
       "        4.12237905e-02,  2.89626922e-02, -5.56342423e-01, -5.31210899e-02,\n",
       "        5.84617317e-01, -4.73500416e-02, -3.94735098e-01,  2.28608586e-02,\n",
       "       -1.18968010e+00, -2.91663501e-02,  1.92978680e-01, -1.67539984e-01,\n",
       "       -1.90559164e-01, -7.62930363e-02, -4.26934250e-02,  1.45062402e-01,\n",
       "       -1.10955752e-01, -1.73590735e-01, -3.27336013e-01, -1.05702747e-02,\n",
       "        2.90644611e-03, -1.92841098e-01,  5.80621481e-01,  1.01917602e-01])"
      ]
     },
     "execution_count": 64,
     "metadata": {},
     "output_type": "execute_result"
    }
   ],
   "source": [
    "X_test[0]"
   ]
  },
  {
   "cell_type": "markdown",
   "metadata": {},
   "source": [
    "## Applying ML Models with Pretrained Embeddings"
   ]
  },
  {
   "cell_type": "code",
   "execution_count": 65,
   "metadata": {},
   "outputs": [
    {
     "name": "stdout",
     "output_type": "stream",
     "text": [
      "                    precision    recall  f1-score   support\n",
      "\n",
      "    Aaron Pressman       1.00      0.02      0.04        50\n",
      "       Alan Crosby       0.00      0.00      0.00        50\n",
      "   Alexander Smith       0.00      0.00      0.00        50\n",
      " Benjamin Kang Lim       0.00      0.00      0.00        50\n",
      "    Bernard Hickey       0.00      0.00      0.00        50\n",
      "     Brad Dorfman        0.00      0.00      0.00        50\n",
      " Darren Schuettler       0.00      0.00      0.00        50\n",
      "      David Lawder       0.00      0.00      0.00        50\n",
      "    Edna Fernandes       0.00      0.00      0.00        50\n",
      "      Eric Auchard       0.00      0.00      0.00        50\n",
      "   Fumiko Fujisaki       0.00      0.00      0.00        50\n",
      "   Graham Earnshaw       0.00      0.00      0.00        50\n",
      " Heather Scoffield       0.00      0.00      0.00        50\n",
      "    Jane Macartney       0.00      0.00      0.00        50\n",
      "       Jan Lopatka       0.00      0.00      0.00        50\n",
      "     Jim Gilchrist       0.00      0.00      0.00        50\n",
      "         Joe Ortiz       0.00      0.00      0.00        50\n",
      "     John Mastrini       0.00      0.00      0.00        50\n",
      "     Jonathan Birt       0.00      0.00      0.00        50\n",
      "   Jo Winterbottom       0.00      0.00      0.00        50\n",
      "      Karl Penhaul       0.00      0.00      0.00        50\n",
      "        Keith Weir       0.00      0.00      0.00        50\n",
      "   Kevin Drawbaugh       0.00      0.00      0.00        50\n",
      "    Kevin Morrison       0.00      0.00      0.00        50\n",
      "    Kirstin Ridley       0.00      0.00      0.00        50\n",
      "Kourosh Karimkhany       0.02      1.00      0.04        50\n",
      "        Lydia Zajc       0.00      0.00      0.00        50\n",
      "   Lynne O'Donnell       0.00      0.00      0.00        50\n",
      "  Lynnley Browning       0.00      0.00      0.00        50\n",
      "  Marcel Michelson       0.00      0.00      0.00        50\n",
      "     Mark Bendeich       0.00      0.00      0.00        50\n",
      "       Martin Wolk       0.00      0.00      0.00        50\n",
      "     Matthew Bunce       0.00      0.00      0.00        50\n",
      "    Michael Connor       0.00      0.00      0.00        50\n",
      "       Mure Dickie       0.00      0.00      0.00        50\n",
      "        Nick Louth       0.00      0.00      0.00        50\n",
      "  Patricia Commins       0.00      0.00      0.00        50\n",
      "    Peter Humphrey       0.00      0.00      0.00        50\n",
      "       Pierre Tran       0.00      0.00      0.00        50\n",
      "       Robin Sidel       0.00      0.00      0.00        50\n",
      "     Roger Fillion       0.00      0.00      0.00        50\n",
      "      Samuel Perry       0.00      0.00      0.00        50\n",
      "     Sarah Davison       0.00      0.00      0.00        50\n",
      "      Scott Hillis       0.00      0.00      0.00        50\n",
      "      Simon Cowell       0.00      0.00      0.00        50\n",
      "        Tan Ee Lyn       0.00      0.00      0.00        50\n",
      "   Therese Poletti       0.00      0.00      0.00        50\n",
      "       Tim Farrand       0.00      0.00      0.00        50\n",
      "       Todd Nissen       0.00      0.00      0.00        50\n",
      "     William Kazer       0.00      0.00      0.00        50\n",
      "\n",
      "          accuracy                           0.02      2500\n",
      "         macro avg       0.02      0.02      0.00      2500\n",
      "      weighted avg       0.02      0.02      0.00      2500\n",
      "\n"
     ]
    },
    {
     "name": "stderr",
     "output_type": "stream",
     "text": [
      "C:\\Users\\moomi\\Anaconda3\\lib\\site-packages\\sklearn\\ensemble\\forest.py:245: FutureWarning: The default value of n_estimators will change from 10 in version 0.20 to 100 in 0.22.\n",
      "  \"10 in version 0.20 to 100 in 0.22.\", FutureWarning)\n",
      "C:\\Users\\moomi\\Anaconda3\\lib\\site-packages\\sklearn\\metrics\\classification.py:1437: UndefinedMetricWarning: Precision and F-score are ill-defined and being set to 0.0 in labels with no predicted samples.\n",
      "  'precision', 'predicted', average, warn_for)\n"
     ]
    }
   ],
   "source": [
    "# Random Forest\n",
    "RF_vec = RandomForestClassifier()\n",
    "RF_vec.fit(X_train, train['Classes'])\n",
    "pred_RF_Vec = RF_vec.predict(X_test)\n",
    "\n",
    "\n",
    "print(classification_report(test['Classes'],pred_RF_Vec, target_names=labels))"
   ]
  },
  {
   "cell_type": "code",
   "execution_count": 66,
   "metadata": {},
   "outputs": [
    {
     "name": "stderr",
     "output_type": "stream",
     "text": [
      "C:\\Users\\moomi\\Anaconda3\\lib\\site-packages\\sklearn\\svm\\base.py:193: FutureWarning: The default value of gamma will change from 'auto' to 'scale' in version 0.22 to account better for unscaled features. Set gamma explicitly to 'auto' or 'scale' to avoid this warning.\n",
      "  \"avoid this warning.\", FutureWarning)\n"
     ]
    },
    {
     "name": "stdout",
     "output_type": "stream",
     "text": [
      "                    precision    recall  f1-score   support\n",
      "\n",
      "    Aaron Pressman       1.00      0.02      0.04        50\n",
      "       Alan Crosby       0.00      0.00      0.00        50\n",
      "   Alexander Smith       0.00      0.00      0.00        50\n",
      " Benjamin Kang Lim       0.00      0.00      0.00        50\n",
      "    Bernard Hickey       0.00      0.00      0.00        50\n",
      "     Brad Dorfman        0.00      0.00      0.00        50\n",
      " Darren Schuettler       0.00      0.00      0.00        50\n",
      "      David Lawder       0.00      0.00      0.00        50\n",
      "    Edna Fernandes       0.00      0.00      0.00        50\n",
      "      Eric Auchard       0.00      0.00      0.00        50\n",
      "   Fumiko Fujisaki       0.00      0.00      0.00        50\n",
      "   Graham Earnshaw       0.00      0.00      0.00        50\n",
      " Heather Scoffield       0.00      0.00      0.00        50\n",
      "    Jane Macartney       0.00      0.00      0.00        50\n",
      "       Jan Lopatka       0.00      0.00      0.00        50\n",
      "     Jim Gilchrist       0.00      0.00      0.00        50\n",
      "         Joe Ortiz       0.00      0.00      0.00        50\n",
      "     John Mastrini       0.00      0.00      0.00        50\n",
      "     Jonathan Birt       0.00      0.00      0.00        50\n",
      "   Jo Winterbottom       0.00      0.00      0.00        50\n",
      "      Karl Penhaul       0.00      0.00      0.00        50\n",
      "        Keith Weir       0.00      0.00      0.00        50\n",
      "   Kevin Drawbaugh       0.00      0.00      0.00        50\n",
      "    Kevin Morrison       0.00      0.00      0.00        50\n",
      "    Kirstin Ridley       0.00      0.00      0.00        50\n",
      "Kourosh Karimkhany       0.00      0.00      0.00        50\n",
      "        Lydia Zajc       0.00      0.00      0.00        50\n",
      "   Lynne O'Donnell       0.00      0.00      0.00        50\n",
      "  Lynnley Browning       0.00      0.00      0.00        50\n",
      "  Marcel Michelson       0.00      0.00      0.00        50\n",
      "     Mark Bendeich       0.00      0.00      0.00        50\n",
      "       Martin Wolk       0.00      0.00      0.00        50\n",
      "     Matthew Bunce       0.00      0.00      0.00        50\n",
      "    Michael Connor       0.00      0.00      0.00        50\n",
      "       Mure Dickie       0.00      0.00      0.00        50\n",
      "        Nick Louth       0.00      0.00      0.00        50\n",
      "  Patricia Commins       0.00      0.00      0.00        50\n",
      "    Peter Humphrey       0.00      0.00      0.00        50\n",
      "       Pierre Tran       0.00      0.00      0.00        50\n",
      "       Robin Sidel       0.00      0.00      0.00        50\n",
      "     Roger Fillion       0.00      0.00      0.00        50\n",
      "      Samuel Perry       0.00      0.00      0.00        50\n",
      "     Sarah Davison       0.00      0.00      0.00        50\n",
      "      Scott Hillis       0.00      0.00      0.00        50\n",
      "      Simon Cowell       0.00      0.00      0.00        50\n",
      "        Tan Ee Lyn       0.00      0.00      0.00        50\n",
      "   Therese Poletti       0.00      0.00      0.00        50\n",
      "       Tim Farrand       0.00      0.00      0.00        50\n",
      "       Todd Nissen       0.00      0.00      0.00        50\n",
      "     William Kazer       0.02      1.00      0.04        50\n",
      "\n",
      "          accuracy                           0.02      2500\n",
      "         macro avg       0.02      0.02      0.00      2500\n",
      "      weighted avg       0.02      0.02      0.00      2500\n",
      "\n"
     ]
    },
    {
     "name": "stderr",
     "output_type": "stream",
     "text": [
      "C:\\Users\\moomi\\Anaconda3\\lib\\site-packages\\sklearn\\metrics\\classification.py:1437: UndefinedMetricWarning: Precision and F-score are ill-defined and being set to 0.0 in labels with no predicted samples.\n",
      "  'precision', 'predicted', average, warn_for)\n"
     ]
    }
   ],
   "source": [
    "# SVM\n",
    "svm_Vec = SVC()\n",
    "svm_Vec.fit(X_train, train['Classes'])\n",
    "pred_SVM_Vec = svm_Vec.predict(X_test)\n",
    "\n",
    "print(classification_report(test['Classes'],pred_SVM_Vec, target_names=labels))"
   ]
  },
  {
   "cell_type": "code",
   "execution_count": 67,
   "metadata": {},
   "outputs": [
    {
     "name": "stdout",
     "output_type": "stream",
     "text": [
      "                    precision    recall  f1-score   support\n",
      "\n",
      "    Aaron Pressman       1.00      0.02      0.04        50\n",
      "       Alan Crosby       0.00      0.00      0.00        50\n",
      "   Alexander Smith       0.00      0.00      0.00        50\n",
      " Benjamin Kang Lim       0.00      0.00      0.00        50\n",
      "    Bernard Hickey       0.00      0.00      0.00        50\n",
      "     Brad Dorfman        0.00      0.00      0.00        50\n",
      " Darren Schuettler       0.00      0.00      0.00        50\n",
      "      David Lawder       0.00      0.00      0.00        50\n",
      "    Edna Fernandes       0.00      0.00      0.00        50\n",
      "      Eric Auchard       0.00      0.00      0.00        50\n",
      "   Fumiko Fujisaki       0.00      0.00      0.00        50\n",
      "   Graham Earnshaw       0.00      0.00      0.00        50\n",
      " Heather Scoffield       0.00      0.00      0.00        50\n",
      "    Jane Macartney       0.00      0.00      0.00        50\n",
      "       Jan Lopatka       0.00      0.00      0.00        50\n",
      "     Jim Gilchrist       0.00      0.00      0.00        50\n",
      "         Joe Ortiz       0.00      0.00      0.00        50\n",
      "     John Mastrini       0.00      0.00      0.00        50\n",
      "     Jonathan Birt       0.00      0.00      0.00        50\n",
      "   Jo Winterbottom       0.00      0.00      0.00        50\n",
      "      Karl Penhaul       0.00      0.00      0.00        50\n",
      "        Keith Weir       0.00      0.00      0.00        50\n",
      "   Kevin Drawbaugh       0.00      0.00      0.00        50\n",
      "    Kevin Morrison       0.00      0.00      0.00        50\n",
      "    Kirstin Ridley       0.00      0.00      0.00        50\n",
      "Kourosh Karimkhany       0.00      0.00      0.00        50\n",
      "        Lydia Zajc       0.00      0.00      0.00        50\n",
      "   Lynne O'Donnell       0.00      0.00      0.00        50\n",
      "  Lynnley Browning       0.00      0.00      0.00        50\n",
      "  Marcel Michelson       0.00      0.00      0.00        50\n",
      "     Mark Bendeich       0.00      0.00      0.00        50\n",
      "       Martin Wolk       0.00      0.00      0.00        50\n",
      "     Matthew Bunce       0.00      0.00      0.00        50\n",
      "    Michael Connor       0.00      0.00      0.00        50\n",
      "       Mure Dickie       0.00      0.00      0.00        50\n",
      "        Nick Louth       0.00      0.00      0.00        50\n",
      "  Patricia Commins       0.00      0.00      0.00        50\n",
      "    Peter Humphrey       0.00      0.00      0.00        50\n",
      "       Pierre Tran       0.00      0.00      0.00        50\n",
      "       Robin Sidel       0.00      0.00      0.00        50\n",
      "     Roger Fillion       0.00      0.00      0.00        50\n",
      "      Samuel Perry       0.00      0.00      0.00        50\n",
      "     Sarah Davison       0.00      0.00      0.00        50\n",
      "      Scott Hillis       0.00      0.00      0.00        50\n",
      "      Simon Cowell       0.00      0.00      0.00        50\n",
      "        Tan Ee Lyn       0.02      1.00      0.04        50\n",
      "   Therese Poletti       0.00      0.00      0.00        50\n",
      "       Tim Farrand       0.00      0.00      0.00        50\n",
      "       Todd Nissen       0.00      0.00      0.00        50\n",
      "     William Kazer       0.00      0.00      0.00        50\n",
      "\n",
      "          accuracy                           0.02      2500\n",
      "         macro avg       0.02      0.02      0.00      2500\n",
      "      weighted avg       0.02      0.02      0.00      2500\n",
      "\n"
     ]
    },
    {
     "name": "stderr",
     "output_type": "stream",
     "text": [
      "C:\\Users\\moomi\\Anaconda3\\lib\\site-packages\\sklearn\\linear_model\\logistic.py:432: FutureWarning: Default solver will be changed to 'lbfgs' in 0.22. Specify a solver to silence this warning.\n",
      "  FutureWarning)\n",
      "C:\\Users\\moomi\\Anaconda3\\lib\\site-packages\\sklearn\\linear_model\\logistic.py:469: FutureWarning: Default multi_class will be changed to 'auto' in 0.22. Specify the multi_class option to silence this warning.\n",
      "  \"this warning.\", FutureWarning)\n",
      "C:\\Users\\moomi\\Anaconda3\\lib\\site-packages\\sklearn\\metrics\\classification.py:1437: UndefinedMetricWarning: Precision and F-score are ill-defined and being set to 0.0 in labels with no predicted samples.\n",
      "  'precision', 'predicted', average, warn_for)\n"
     ]
    }
   ],
   "source": [
    "# Logistic Regression\n",
    "clf_lr_Vec = LogisticRegression()\n",
    "clf_lr_Vec.fit(X_train, train['Classes'])\n",
    "pred_LR_Vec = clf_lr_Vec.predict(X_test)\n",
    "\n",
    "labels = list(train['AuthorName'].unique())\n",
    "print(classification_report(test['Classes'],pred_LR_Vec, target_names=labels))"
   ]
  }
 ],
 "metadata": {
  "kernelspec": {
   "display_name": "Python 3",
   "language": "python",
   "name": "python3"
  },
  "language_info": {
   "codemirror_mode": {
    "name": "ipython",
    "version": 3
   },
   "file_extension": ".py",
   "mimetype": "text/x-python",
   "name": "python",
   "nbconvert_exporter": "python",
   "pygments_lexer": "ipython3",
   "version": "3.7.4"
  }
 },
 "nbformat": 4,
 "nbformat_minor": 4
}
